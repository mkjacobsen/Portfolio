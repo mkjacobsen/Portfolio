{
 "cells": [
  {
   "cell_type": "markdown",
   "metadata": {},
   "source": [
    "# 2006 Pikes Peak 10 km Run\n",
    "\n",
    "## Matthew Jacobsen\n",
    "## 5/20/2021\n",
    "\n",
    "\n",
    "### Objective:\n",
    "Using the data provided, create a series of visualizations (e.g., charts, graphs, etc.) that answer the following questions regarding the results of the 2006 Pike’s Peak 10k Race:\n",
    "1. What are the mean, median, mode, and range of the race results for all racers by gender?\n",
    "2. Analyze the difference between gun and net time race results.\n",
    "3. How much time separates Chris Doe from the top 10 percentile of racers of the same division?\n",
    "4. Compare the race results of each division.\n",
    "\n",
    "### Data Overview:\n",
    "The data provided includes two separate text files containing tab-separated information about the different racers, with the different files representing different genders.  Within this dataset, there are a total of eight columns:\n",
    "1. Place: The order in which each racer finished relative to racers of the same gender\n",
    "2. Division/Total: Racers of the same gender and age group (Age groups include 0-14, 15-19, and then in tens [e.g. 20-29]), with the total number of racers in the same division.  \n",
    "3. Number: The racers bib number\n",
    "4. Name: The racers name\n",
    "5. Age: The racers age\n",
    "6. Hometown: The hometown of the racer\n",
    "7. Gun Time: The elapsed time from the formal start of the race and when the racer crossed the finish line.\n",
    "8. Net Time: The elapsed time from when the racer crossed the start until they crossed the finish line.\n",
    "9. Pace: The racer's average time per mile during the race\n",
    "\n",
    "As part of the analysis done below, I have added a tenth column, Gender, which indicated the racers gender.  This was included because I worked with all of the data in the same dataframe.\n",
    "\n",
    "### Data Processing:\n",
    "First, I loaded the data, processed and merged it into a single dataframe, while also normalizing the formats of each of the columns and data types.  When loading the data, there were several instances where tab separator was misplaced (indicative of data entry errors), which necessitated treating the incoming data as if it were text and processing it that way, as opposed to direct loading into a dataframe. Then, I used regular expressions to normalize the data for analysis.  "
   ]
  },
  {
   "cell_type": "code",
   "execution_count": 1,
   "metadata": {},
   "outputs": [],
   "source": [
    "# Import packages for analysis and plotting\n",
    "import pandas as pd\n",
    "from datetime import timedelta, datetime\n",
    "import re\n",
    "import numpy as np\n",
    "from scipy import stats\n",
    "import matplotlib.pyplot as plt\n",
    "import seaborn as sns"
   ]
  },
  {
   "cell_type": "code",
   "execution_count": 2,
   "metadata": {},
   "outputs": [
    {
     "data": {
      "text/html": [
       "<div>\n",
       "<style scoped>\n",
       "    .dataframe tbody tr th:only-of-type {\n",
       "        vertical-align: middle;\n",
       "    }\n",
       "\n",
       "    .dataframe tbody tr th {\n",
       "        vertical-align: top;\n",
       "    }\n",
       "\n",
       "    .dataframe thead th {\n",
       "        text-align: right;\n",
       "    }\n",
       "</style>\n",
       "<table border=\"1\" class=\"dataframe\">\n",
       "  <thead>\n",
       "    <tr style=\"text-align: right;\">\n",
       "      <th></th>\n",
       "      <th>Place</th>\n",
       "      <th>Division/Total</th>\n",
       "      <th>Num</th>\n",
       "      <th>Name</th>\n",
       "      <th>Age</th>\n",
       "      <th>Hometown</th>\n",
       "      <th>Gun Time</th>\n",
       "      <th>Net Time</th>\n",
       "      <th>Pace</th>\n",
       "      <th>Gender</th>\n",
       "    </tr>\n",
       "  </thead>\n",
       "  <tbody>\n",
       "    <tr>\n",
       "      <th>0</th>\n",
       "      <td>1</td>\n",
       "      <td>1/86</td>\n",
       "      <td>30</td>\n",
       "      <td>Florence Jepkosgei</td>\n",
       "      <td>22</td>\n",
       "      <td>Kenya</td>\n",
       "      <td>32:59</td>\n",
       "      <td>32:58</td>\n",
       "      <td>5:19</td>\n",
       "      <td>Female</td>\n",
       "    </tr>\n",
       "    <tr>\n",
       "      <th>1</th>\n",
       "      <td>2</td>\n",
       "      <td>2/86</td>\n",
       "      <td>8</td>\n",
       "      <td>Eunice Chepkirui</td>\n",
       "      <td>21</td>\n",
       "      <td>Kenya</td>\n",
       "      <td>33:14</td>\n",
       "      <td>33:13</td>\n",
       "      <td>5:21</td>\n",
       "      <td>Female</td>\n",
       "    </tr>\n",
       "    <tr>\n",
       "      <th>2</th>\n",
       "      <td>3</td>\n",
       "      <td>1/247</td>\n",
       "      <td>3200</td>\n",
       "      <td>Elena Orlova</td>\n",
       "      <td>36</td>\n",
       "      <td>Gaithersburg MD</td>\n",
       "      <td>34:26</td>\n",
       "      <td>34:25</td>\n",
       "      <td>5:33</td>\n",
       "      <td>Female</td>\n",
       "    </tr>\n",
       "    <tr>\n",
       "      <th>3</th>\n",
       "      <td>4</td>\n",
       "      <td>1/173</td>\n",
       "      <td>2</td>\n",
       "      <td>Susannah Kvasnicka</td>\n",
       "      <td>34</td>\n",
       "      <td>Great Falls VA</td>\n",
       "      <td>34:43</td>\n",
       "      <td>34:42</td>\n",
       "      <td>5:35</td>\n",
       "      <td>Female</td>\n",
       "    </tr>\n",
       "    <tr>\n",
       "      <th>4</th>\n",
       "      <td>5</td>\n",
       "      <td>1/142</td>\n",
       "      <td>6</td>\n",
       "      <td>Casey Smith</td>\n",
       "      <td>26</td>\n",
       "      <td>Arlington VA</td>\n",
       "      <td>35:04</td>\n",
       "      <td>35:02</td>\n",
       "      <td>5:39</td>\n",
       "      <td>Female</td>\n",
       "    </tr>\n",
       "  </tbody>\n",
       "</table>\n",
       "</div>"
      ],
      "text/plain": [
       "   Place Division/Total   Num                Name  Age         Hometown  \\\n",
       "0      1           1/86    30  Florence Jepkosgei   22           Kenya    \n",
       "1      2           2/86     8    Eunice Chepkirui   21           Kenya    \n",
       "2      3          1/247  3200        Elena Orlova   36  Gaithersburg MD   \n",
       "3      4          1/173     2  Susannah Kvasnicka   34   Great Falls VA   \n",
       "4      5          1/142     6         Casey Smith   26     Arlington VA   \n",
       "\n",
       "  Gun Time Net Time  Pace  Gender  \n",
       "0    32:59    32:58  5:19  Female  \n",
       "1    33:14    33:13  5:21  Female  \n",
       "2    34:26    34:25  5:33  Female  \n",
       "3    34:43    34:42  5:35  Female  \n",
       "4    35:04    35:02  5:39  Female  "
      ]
     },
     "execution_count": 2,
     "metadata": {},
     "output_type": "execute_result"
    }
   ],
   "source": [
    "# Load the data in as a string from each text file\n",
    "with open('MA_Exer_PikesPeak_Females.txt','r') as infile:\n",
    "    female_data = infile.read()\n",
    "\n",
    "with open('MA_Exer_PikesPeak_Males.txt','r') as infile:\n",
    "    male_data = infile.read()\n",
    "    \n",
    "# Separate the string based on carriage returns\n",
    "female_data = female_data.split('\\n')\n",
    "male_data = male_data.split('\\n')\n",
    "\n",
    "# Segment the data and append to an overall data list, while including the Gender information\n",
    "data_list = [['Place','Division/Total','Num','Name','Age','Hometown','Gun Time','Net Time','Pace','Gender']]\n",
    "for line in female_data[1:]:\n",
    "    new_line = line.split('\\t')\n",
    "    new_line.append('Female')\n",
    "    data_list.append(new_line)\n",
    "for line in male_data[1:]:\n",
    "    new_line = line.split('\\t')\n",
    "    new_line.append('Male')\n",
    "    data_list.append(new_line)\n",
    "\n",
    "# Convert the list to a dataframe\n",
    "df = pd.DataFrame(data_list[1:], columns = data_list[0])\n",
    "df = df.dropna()\n",
    "\n",
    "# Define our expected data formats for each column and use regular expressions to clean up the columns\n",
    "char_mapping = ['[^0-9]+','[^0-9/]+','[^0-9]+','[^A-Za-z ]+','[^0-9]+','[^A-Za-z ]+','[^0-9:]+','[^0-9:]+','[^0-9:]+']\n",
    "for i, char in enumerate(char_mapping):\n",
    "    column = df.columns[i]\n",
    "    df[column] = df[column].apply(lambda x: re.sub(char, '', x))\n",
    "    if ('0-9' in char) and (':' not in char) and ('/' not in char):\n",
    "        df[column] = df[column].apply(lambda x: int(x) if x!='' else -1)\n",
    "\n",
    "# Look at the output to ensure it is what we expect.\n",
    "df.head()"
   ]
  },
  {
   "cell_type": "markdown",
   "metadata": {},
   "source": [
    "Next, I want to work with straight numbers instead of times, as this will make the math and segmentation easier down the road.  For this, I'll convert all of the times in the Gun Time, Net Time, and Pace columns to number of seconds using stright slices, integer conversion, and summation.  If there is a value that is empty, I'll fill it with -1, so that it can be ignored later. "
   ]
  },
  {
   "cell_type": "code",
   "execution_count": 3,
   "metadata": {},
   "outputs": [
    {
     "data": {
      "text/html": [
       "<div>\n",
       "<style scoped>\n",
       "    .dataframe tbody tr th:only-of-type {\n",
       "        vertical-align: middle;\n",
       "    }\n",
       "\n",
       "    .dataframe tbody tr th {\n",
       "        vertical-align: top;\n",
       "    }\n",
       "\n",
       "    .dataframe thead th {\n",
       "        text-align: right;\n",
       "    }\n",
       "</style>\n",
       "<table border=\"1\" class=\"dataframe\">\n",
       "  <thead>\n",
       "    <tr style=\"text-align: right;\">\n",
       "      <th></th>\n",
       "      <th>Place</th>\n",
       "      <th>Division/Total</th>\n",
       "      <th>Num</th>\n",
       "      <th>Name</th>\n",
       "      <th>Age</th>\n",
       "      <th>Hometown</th>\n",
       "      <th>Gun Time</th>\n",
       "      <th>Net Time</th>\n",
       "      <th>Pace</th>\n",
       "      <th>Gender</th>\n",
       "    </tr>\n",
       "  </thead>\n",
       "  <tbody>\n",
       "    <tr>\n",
       "      <th>0</th>\n",
       "      <td>1</td>\n",
       "      <td>1/86</td>\n",
       "      <td>30</td>\n",
       "      <td>Florence Jepkosgei</td>\n",
       "      <td>22</td>\n",
       "      <td>Kenya</td>\n",
       "      <td>1979</td>\n",
       "      <td>1978</td>\n",
       "      <td>319</td>\n",
       "      <td>Female</td>\n",
       "    </tr>\n",
       "    <tr>\n",
       "      <th>1</th>\n",
       "      <td>2</td>\n",
       "      <td>2/86</td>\n",
       "      <td>8</td>\n",
       "      <td>Eunice Chepkirui</td>\n",
       "      <td>21</td>\n",
       "      <td>Kenya</td>\n",
       "      <td>1994</td>\n",
       "      <td>1993</td>\n",
       "      <td>321</td>\n",
       "      <td>Female</td>\n",
       "    </tr>\n",
       "    <tr>\n",
       "      <th>2</th>\n",
       "      <td>3</td>\n",
       "      <td>1/247</td>\n",
       "      <td>3200</td>\n",
       "      <td>Elena Orlova</td>\n",
       "      <td>36</td>\n",
       "      <td>Gaithersburg MD</td>\n",
       "      <td>2066</td>\n",
       "      <td>2065</td>\n",
       "      <td>333</td>\n",
       "      <td>Female</td>\n",
       "    </tr>\n",
       "    <tr>\n",
       "      <th>3</th>\n",
       "      <td>4</td>\n",
       "      <td>1/173</td>\n",
       "      <td>2</td>\n",
       "      <td>Susannah Kvasnicka</td>\n",
       "      <td>34</td>\n",
       "      <td>Great Falls VA</td>\n",
       "      <td>2083</td>\n",
       "      <td>2082</td>\n",
       "      <td>335</td>\n",
       "      <td>Female</td>\n",
       "    </tr>\n",
       "    <tr>\n",
       "      <th>4</th>\n",
       "      <td>5</td>\n",
       "      <td>1/142</td>\n",
       "      <td>6</td>\n",
       "      <td>Casey Smith</td>\n",
       "      <td>26</td>\n",
       "      <td>Arlington VA</td>\n",
       "      <td>2104</td>\n",
       "      <td>2102</td>\n",
       "      <td>339</td>\n",
       "      <td>Female</td>\n",
       "    </tr>\n",
       "  </tbody>\n",
       "</table>\n",
       "</div>"
      ],
      "text/plain": [
       "   Place Division/Total   Num                Name  Age         Hometown  \\\n",
       "0      1           1/86    30  Florence Jepkosgei   22           Kenya    \n",
       "1      2           2/86     8    Eunice Chepkirui   21           Kenya    \n",
       "2      3          1/247  3200        Elena Orlova   36  Gaithersburg MD   \n",
       "3      4          1/173     2  Susannah Kvasnicka   34   Great Falls VA   \n",
       "4      5          1/142     6         Casey Smith   26     Arlington VA   \n",
       "\n",
       "   Gun Time  Net Time  Pace  Gender  \n",
       "0      1979      1978   319  Female  \n",
       "1      1994      1993   321  Female  \n",
       "2      2066      2065   333  Female  \n",
       "3      2083      2082   335  Female  \n",
       "4      2104      2102   339  Female  "
      ]
     },
     "execution_count": 3,
     "metadata": {},
     "output_type": "execute_result"
    }
   ],
   "source": [
    "# Convert the text Gun Time, Net Time, and Paces to numerical seconds\n",
    "df['Gun Time'] = df['Gun Time'].apply(lambda x: int(x[:x.find(':')])*60+int(x[x.find(':')+1:x.find(':')+3]) if x != '' else -1)\n",
    "df['Net Time'] = df['Net Time'].apply(lambda x: int(x[:x.find(':')])*60+int(x[x.find(':')+1:x.find(':')+3]) if x != '' else -1)\n",
    "df['Pace'] = df['Pace'].apply(lambda x: int(x[:x.find(':')])*60+int(x[x.find(':')+1:x.find(':')+3]) if x != '' else -1)\n",
    "df.head()"
   ]
  },
  {
   "cell_type": "markdown",
   "metadata": {},
   "source": [
    "Since we already know there were data entry errors, I will create a couple of columns to flag the data entry errors.  There are a couple of approaches for doing this:\n",
    "1. We can assume that the pace times are all accurate and fill the Net Time based upon that, if Net Time is empty.  However, if the pace times are inaccurate, this will create false data.  This approach will also not help with the Gun Time, as that has an inherent delay that we cannot account for.\n",
    "2. We can drop any values that are empty.  This approach reduces the data we have available, but it avoids making bad assumptions or misreporting results.\n",
    "\n",
    "Given that there are 2370 records, I think we can afford to lose some data over making bad conclusions."
   ]
  },
  {
   "cell_type": "code",
   "execution_count": 4,
   "metadata": {},
   "outputs": [
    {
     "data": {
      "text/html": [
       "<div>\n",
       "<style scoped>\n",
       "    .dataframe tbody tr th:only-of-type {\n",
       "        vertical-align: middle;\n",
       "    }\n",
       "\n",
       "    .dataframe tbody tr th {\n",
       "        vertical-align: top;\n",
       "    }\n",
       "\n",
       "    .dataframe thead th {\n",
       "        text-align: right;\n",
       "    }\n",
       "</style>\n",
       "<table border=\"1\" class=\"dataframe\">\n",
       "  <thead>\n",
       "    <tr style=\"text-align: right;\">\n",
       "      <th></th>\n",
       "      <th>Place</th>\n",
       "      <th>Division/Total</th>\n",
       "      <th>Num</th>\n",
       "      <th>Name</th>\n",
       "      <th>Age</th>\n",
       "      <th>Hometown</th>\n",
       "      <th>Gun Time</th>\n",
       "      <th>Net Time</th>\n",
       "      <th>Pace</th>\n",
       "      <th>Gender</th>\n",
       "      <th>Expected Net Time</th>\n",
       "      <th>Error</th>\n",
       "      <th>Err Flag</th>\n",
       "    </tr>\n",
       "  </thead>\n",
       "  <tbody>\n",
       "    <tr>\n",
       "      <th>0</th>\n",
       "      <td>1</td>\n",
       "      <td>1/86</td>\n",
       "      <td>30</td>\n",
       "      <td>Florence Jepkosgei</td>\n",
       "      <td>22</td>\n",
       "      <td>Kenya</td>\n",
       "      <td>1979</td>\n",
       "      <td>1978</td>\n",
       "      <td>319</td>\n",
       "      <td>Female</td>\n",
       "      <td>1982.17349</td>\n",
       "      <td>1.002110</td>\n",
       "      <td>False</td>\n",
       "    </tr>\n",
       "    <tr>\n",
       "      <th>1</th>\n",
       "      <td>2</td>\n",
       "      <td>2/86</td>\n",
       "      <td>8</td>\n",
       "      <td>Eunice Chepkirui</td>\n",
       "      <td>21</td>\n",
       "      <td>Kenya</td>\n",
       "      <td>1994</td>\n",
       "      <td>1993</td>\n",
       "      <td>321</td>\n",
       "      <td>Female</td>\n",
       "      <td>1994.60091</td>\n",
       "      <td>1.000803</td>\n",
       "      <td>False</td>\n",
       "    </tr>\n",
       "    <tr>\n",
       "      <th>2</th>\n",
       "      <td>3</td>\n",
       "      <td>1/247</td>\n",
       "      <td>3200</td>\n",
       "      <td>Elena Orlova</td>\n",
       "      <td>36</td>\n",
       "      <td>Gaithersburg MD</td>\n",
       "      <td>2066</td>\n",
       "      <td>2065</td>\n",
       "      <td>333</td>\n",
       "      <td>Female</td>\n",
       "      <td>2069.16543</td>\n",
       "      <td>1.002017</td>\n",
       "      <td>False</td>\n",
       "    </tr>\n",
       "    <tr>\n",
       "      <th>3</th>\n",
       "      <td>4</td>\n",
       "      <td>1/173</td>\n",
       "      <td>2</td>\n",
       "      <td>Susannah Kvasnicka</td>\n",
       "      <td>34</td>\n",
       "      <td>Great Falls VA</td>\n",
       "      <td>2083</td>\n",
       "      <td>2082</td>\n",
       "      <td>335</td>\n",
       "      <td>Female</td>\n",
       "      <td>2081.59285</td>\n",
       "      <td>0.999804</td>\n",
       "      <td>False</td>\n",
       "    </tr>\n",
       "    <tr>\n",
       "      <th>4</th>\n",
       "      <td>5</td>\n",
       "      <td>1/142</td>\n",
       "      <td>6</td>\n",
       "      <td>Casey Smith</td>\n",
       "      <td>26</td>\n",
       "      <td>Arlington VA</td>\n",
       "      <td>2104</td>\n",
       "      <td>2102</td>\n",
       "      <td>339</td>\n",
       "      <td>Female</td>\n",
       "      <td>2106.44769</td>\n",
       "      <td>1.002116</td>\n",
       "      <td>False</td>\n",
       "    </tr>\n",
       "  </tbody>\n",
       "</table>\n",
       "</div>"
      ],
      "text/plain": [
       "   Place Division/Total   Num                Name  Age         Hometown  \\\n",
       "0      1           1/86    30  Florence Jepkosgei   22           Kenya    \n",
       "1      2           2/86     8    Eunice Chepkirui   21           Kenya    \n",
       "2      3          1/247  3200        Elena Orlova   36  Gaithersburg MD   \n",
       "3      4          1/173     2  Susannah Kvasnicka   34   Great Falls VA   \n",
       "4      5          1/142     6         Casey Smith   26     Arlington VA   \n",
       "\n",
       "   Gun Time  Net Time  Pace  Gender  Expected Net Time     Error  Err Flag  \n",
       "0      1979      1978   319  Female         1982.17349  1.002110     False  \n",
       "1      1994      1993   321  Female         1994.60091  1.000803     False  \n",
       "2      2066      2065   333  Female         2069.16543  1.002017     False  \n",
       "3      2083      2082   335  Female         2081.59285  0.999804     False  \n",
       "4      2104      2102   339  Female         2106.44769  1.002116     False  "
      ]
     },
     "execution_count": 4,
     "metadata": {},
     "output_type": "execute_result"
    }
   ],
   "source": [
    "df['Expected Net Time'] = 10*0.621371*df['Pace'] # Calculate the expected net time, based upon a 10K race at the pace recorded\n",
    "df['Error'] = (df['Expected Net Time']/df['Net Time']) # Determine the percentage of the recorded net time the expected net time is\n",
    "df['Err Flag'] = ~df['Error'].between(0.9,1.1) # Flag all records where the expected net time is more than 10% off from the recorded net time\n",
    "df.head()"
   ]
  },
  {
   "cell_type": "markdown",
   "metadata": {},
   "source": [
    "We have the added problem of having ages that are outside of the possible range (e.g. less than zero).  If we remove all of those, how much data to we retain, along with eliminating those records that show a significant error in the net time and pace values. "
   ]
  },
  {
   "cell_type": "code",
   "execution_count": 5,
   "metadata": {},
   "outputs": [
    {
     "name": "stdout",
     "output_type": "stream",
     "text": [
      "2366 2373\n",
      "1759 2373\n"
     ]
    }
   ],
   "source": [
    "df = df[df['Age']>0]\n",
    "print(len(df), len(data_list))\n",
    "df = df[df['Err Flag'] == False]\n",
    "print(len(df), len(data_list))"
   ]
  },
  {
   "cell_type": "markdown",
   "metadata": {},
   "source": [
    "If we drop all the data that is outside of our expected ranges, we retain about 75% of the overall results.  The benefit of doing this is that we will be using data that meets reasonable expectations for data quality and ranges.  Now we can move into the questions.\n",
    "\n",
    "### Question 1: What are the mean, median, mode, andrange of the race results for all racers by gender?\n",
    "\n",
    "The best way to visualize the answer to this question is through use of a box plot.  Box plots can display, by default, the range, mean, and median values by gender.  With some straightforward functions, we can also include the mode value for all racers. The graphic answering this question is shown below.  "
   ]
  },
  {
   "cell_type": "code",
   "execution_count": 74,
   "metadata": {},
   "outputs": [
    {
     "data": {
      "text/plain": [
       "<function matplotlib.pyplot.show(close=None, block=None)>"
      ]
     },
     "execution_count": 74,
     "metadata": {},
     "output_type": "execute_result"
    },
    {
     "data": {
      "image/png": "[encoded data removed]",
      "text/plain": [
       "<Figure size 720x576 with 1 Axes>"
      ]
     },
     "metadata": {
      "needs_background": "light"
     },
     "output_type": "display_data"
    }
   ],
   "source": [
    "# Section off the data we want for plotting\n",
    "data = df[['Gun Time','Net Time','Gender','Pace']].copy()\n",
    "\n",
    "### Create our X and Y data for the mode value addition to our plot.\n",
    "# Create X data\n",
    "positions = np.arange(2)\n",
    "\n",
    "# Use scipy.stats's mode function to obtain the mode value for the net time\n",
    "modes = []\n",
    "for x in data['Gender'].unique():\n",
    "    mode = stats.mode(data[data['Gender']==x]['Net Time'])\n",
    "    modes.append(mode.mode[0])\n",
    "    \n",
    "# Create our plot variables\n",
    "fig, ax = plt.subplots(1,1,figsize=(10,8))\n",
    "# Use Seaborn's boxplot to plot the Net Time by Gender and include the mean values on plot\n",
    "sns.boxplot(x='Gender', \n",
    "            y='Net Time', \n",
    "            data=data, \n",
    "            showmeans=True,\n",
    "            meanprops={\"marker\":\"o\",\n",
    "                      \"markerfacecolor\":\"white\",\n",
    "                      \"markeredgecolor\":\"black\",\n",
    "                      \"markersize\":\"10\"}\n",
    "           )\n",
    "# Add the mode values to plot\n",
    "ax.plot(positions,modes, 'bX')\n",
    "# Label the modes\n",
    "ax.text(positions[0]+0.1, modes[0]-20, 'Female Mode', size=12)\n",
    "ax.text(positions[1]+0.1, modes[1]-20, 'Male Mode', size=12)\n",
    "# Put the axis labels on the plot\n",
    "plt.ylabel('Time (seconds)', size=14)\n",
    "plt.xlabel('Gender',size=14)\n",
    "# Put the chart title on the plot\n",
    "plt.title(\"Race Results by Gender for 2006 Pike's Peak 10K Race\", size=16)\n",
    "plt.show"
   ]
  },
  {
   "cell_type": "code",
   "execution_count": 75,
   "metadata": {},
   "outputs": [
    {
     "name": "stdout",
     "output_type": "stream",
     "text": [
      "For the Female racers:\n",
      "The mean is 3167.7661406025827, the median is 3226.0, the mode is [2886], the range is [3599, 1978].\n",
      "For the Male racers:\n",
      "The mean is 2948.845574387947, the median is 2981.0, the mode is [2128], the range is [3597, 1727].\n"
     ]
    }
   ],
   "source": [
    "for gender in data['Gender'].unique():\n",
    "    print('For the {} racers:'.format(gender))\n",
    "    sub_df = data[data['Gender']==gender]\n",
    "    mean = np.mean(sub_df['Net Time'])\n",
    "    median = np.median(sub_df['Net Time'])\n",
    "    mode = stats.mode(sub_df['Net Time'])\n",
    "    mode = mode[0]\n",
    "    ran = [sub_df['Net Time'].max(), sub_df['Net Time'].min()]\n",
    "    print('The mean is {}, the median is {}, the mode is {}, the range is {}.'.format(mean, median, mode, ran))"
   ]
  },
  {
   "cell_type": "markdown",
   "metadata": {},
   "source": [
    "### Question 2: Analyze the difference between gun and net time race results.\n",
    "\n",
    "In order to comment on the difference between gun and net time race results, we can look at statistical variation in the results, similar to what we did for the previous question. Before we do that, let's see if we can gain some insight about what might be going on here.  "
   ]
  },
  {
   "cell_type": "code",
   "execution_count": 76,
   "metadata": {},
   "outputs": [
    {
     "data": {
      "text/html": [
       "<div>\n",
       "<style scoped>\n",
       "    .dataframe tbody tr th:only-of-type {\n",
       "        vertical-align: middle;\n",
       "    }\n",
       "\n",
       "    .dataframe tbody tr th {\n",
       "        vertical-align: top;\n",
       "    }\n",
       "\n",
       "    .dataframe thead th {\n",
       "        text-align: right;\n",
       "    }\n",
       "</style>\n",
       "<table border=\"1\" class=\"dataframe\">\n",
       "  <thead>\n",
       "    <tr style=\"text-align: right;\">\n",
       "      <th></th>\n",
       "      <th>Gun Time</th>\n",
       "      <th>Net Time</th>\n",
       "      <th>Gender</th>\n",
       "      <th>Pace</th>\n",
       "      <th>Diff Time</th>\n",
       "    </tr>\n",
       "  </thead>\n",
       "  <tbody>\n",
       "    <tr>\n",
       "      <th>0</th>\n",
       "      <td>1979</td>\n",
       "      <td>1978</td>\n",
       "      <td>Female</td>\n",
       "      <td>319</td>\n",
       "      <td>1</td>\n",
       "    </tr>\n",
       "    <tr>\n",
       "      <th>1</th>\n",
       "      <td>1994</td>\n",
       "      <td>1993</td>\n",
       "      <td>Female</td>\n",
       "      <td>321</td>\n",
       "      <td>1</td>\n",
       "    </tr>\n",
       "    <tr>\n",
       "      <th>2</th>\n",
       "      <td>2066</td>\n",
       "      <td>2065</td>\n",
       "      <td>Female</td>\n",
       "      <td>333</td>\n",
       "      <td>1</td>\n",
       "    </tr>\n",
       "    <tr>\n",
       "      <th>3</th>\n",
       "      <td>2083</td>\n",
       "      <td>2082</td>\n",
       "      <td>Female</td>\n",
       "      <td>335</td>\n",
       "      <td>1</td>\n",
       "    </tr>\n",
       "    <tr>\n",
       "      <th>4</th>\n",
       "      <td>2104</td>\n",
       "      <td>2102</td>\n",
       "      <td>Female</td>\n",
       "      <td>339</td>\n",
       "      <td>2</td>\n",
       "    </tr>\n",
       "  </tbody>\n",
       "</table>\n",
       "</div>"
      ],
      "text/plain": [
       "   Gun Time  Net Time  Gender  Pace  Diff Time\n",
       "0      1979      1978  Female   319          1\n",
       "1      1994      1993  Female   321          1\n",
       "2      2066      2065  Female   333          1\n",
       "3      2083      2082  Female   335          1\n",
       "4      2104      2102  Female   339          2"
      ]
     },
     "execution_count": 76,
     "metadata": {},
     "output_type": "execute_result"
    }
   ],
   "source": [
    "data['Diff Time'] = data['Gun Time'] - data['Net Time']\n",
    "data.head()"
   ]
  },
  {
   "cell_type": "code",
   "execution_count": 77,
   "metadata": {},
   "outputs": [
    {
     "data": {
      "text/plain": [
       "<AxesSubplot:>"
      ]
     },
     "execution_count": 77,
     "metadata": {},
     "output_type": "execute_result"
    },
    {
     "data": {
      "image/png": "[encoded data removed]",
      "text/plain": [
       "<Figure size 432x288 with 1 Axes>"
      ]
     },
     "metadata": {
      "needs_background": "light"
     },
     "output_type": "display_data"
    }
   ],
   "source": [
    "data['Diff Time'].plot()"
   ]
  },
  {
   "cell_type": "markdown",
   "metadata": {},
   "source": [
    "In this graph, we look at the difference between the gun time and the net time.  For most of the racers, there is minimal difference, on the order of a few hundred seconds.  However, there is a large group where the gun time is significantly less than the Net Time.  This, as with our original results, indicates either data entry errors or some inconsistency we have not accounted for.  Based upon our previous analysis, the net times are likely not the problem, since we already used the Pace to cross check for anomalous values outside of a 10% range.\n",
    "\n",
    "We did not do this for the Gun time though.  At this point, one possibility is that there are racers that ran the race **before** it officially started.  Since the gun time is the from when the race officially started and when the racer crossed the finish line, a large negative number would be expected in that situation.  Since we have no way to identify those points, the most sound approach is to exclude them, as they create noise that we cannot reasonably accomodate."
   ]
  },
  {
   "cell_type": "code",
   "execution_count": 78,
   "metadata": {},
   "outputs": [
    {
     "data": {
      "text/plain": [
       "<AxesSubplot:>"
      ]
     },
     "execution_count": 78,
     "metadata": {},
     "output_type": "execute_result"
    },
    {
     "data": {
      "image/png": "[encoded data removed]",
      "text/plain": [
       "<Figure size 432x288 with 1 Axes>"
      ]
     },
     "metadata": {
      "needs_background": "light"
     },
     "output_type": "display_data"
    }
   ],
   "source": [
    "new_data = data[data['Diff Time'] >= 0].copy()\n",
    "new_data['Diff Time'].plot()"
   ]
  },
  {
   "cell_type": "markdown",
   "metadata": {},
   "source": [
    "Now, we should be ok to run statistical comparisons between the data and know that our results should be somewhat consistent."
   ]
  },
  {
   "cell_type": "code",
   "execution_count": 79,
   "metadata": {},
   "outputs": [
    {
     "data": {
      "text/plain": [
       "<function matplotlib.pyplot.show(close=None, block=None)>"
      ]
     },
     "execution_count": 79,
     "metadata": {},
     "output_type": "execute_result"
    },
    {
     "data": {
      "image/png": "[encoded data removed]",
      "text/plain": [
       "<Figure size 720x576 with 1 Axes>"
      ]
     },
     "metadata": {
      "needs_background": "light"
     },
     "output_type": "display_data"
    }
   ],
   "source": [
    "# Section off the data we want for plotting\n",
    "data = new_data[['Diff Time','Gender','Pace']].copy()\n",
    "\n",
    "### Create our X and Y data for the mode value addition to our plot.\n",
    "# Create X data\n",
    "positions = np.arange(2)\n",
    "\n",
    "# Use scipy.stats's mode function to obtain the mode value for the net time\n",
    "modes = []\n",
    "for x in data['Gender'].unique():\n",
    "    mode = stats.mode(data[data['Gender']==x]['Diff Time'])\n",
    "    modes.append(mode.mode[0])\n",
    "    \n",
    "# Create our plot variables\n",
    "fig, ax = plt.subplots(1,1,figsize=(10,8))\n",
    "# Use Seaborn's boxplot to plot the Net Time by Gender and include the mean values on plot\n",
    "sns.boxplot(x='Gender', \n",
    "            y='Diff Time', \n",
    "            data=data, \n",
    "            showmeans=True,\n",
    "            meanprops={\"marker\":\"o\",\n",
    "                      \"markerfacecolor\":\"white\",\n",
    "                      \"markeredgecolor\":\"black\",\n",
    "                      \"markersize\":\"10\"}\n",
    "           )\n",
    "# Add the mode values to plot\n",
    "ax.plot(positions,modes, 'bX')\n",
    "# Label the modes\n",
    "ax.text(positions[0]+0.1, modes[0]-20, 'Female Mode', size=12)\n",
    "ax.text(positions[1]+0.1, modes[1]-20, 'Male Mode', size=12)\n",
    "# Put the axis labels on the plot\n",
    "plt.ylabel('Difference between Gun and Net Time (seconds)', size=14)\n",
    "plt.xlabel('Gender',size=14)\n",
    "# Put the chart title on the plot\n",
    "plt.title(\"Difference between Gun and Net Time Results\\n by Gender for 2006 Pike's Peak 10K Race\", size=16)\n",
    "plt.show"
   ]
  },
  {
   "cell_type": "code",
   "execution_count": 81,
   "metadata": {},
   "outputs": [
    {
     "data": {
      "text/plain": [
       "<function matplotlib.pyplot.show(close=None, block=None)>"
      ]
     },
     "execution_count": 81,
     "metadata": {},
     "output_type": "execute_result"
    },
    {
     "data": {
      "image/png": "[encoded data removed]",
      "text/plain": [
       "<Figure size 720x576 with 1 Axes>"
      ]
     },
     "metadata": {
      "needs_background": "light"
     },
     "output_type": "display_data"
    }
   ],
   "source": [
    "# Section off the data we want for plotting\n",
    "data = new_data[['Diff Time','Gender','Pace']].copy()\n",
    "\n",
    "### Create our X and Y data for the mode value addition to our plot.\n",
    "# Create X data\n",
    "positions = np.arange(2)\n",
    "\n",
    "# Use scipy.stats's mode function to obtain the mode value for the net time\n",
    "modes = []\n",
    "for x in data['Gender'].unique():\n",
    "    mode = stats.mode(data[data['Gender']==x]['Diff Time'])\n",
    "    modes.append(mode.mode[0])\n",
    "    \n",
    "# Create our plot variables\n",
    "fig, ax = plt.subplots(1,1,figsize=(10,8))\n",
    "# Use Seaborn's boxplot to plot the Net Time by Gender and include the mean values on plot\n",
    "sns.boxplot(x='Gender', \n",
    "            y='Pace', \n",
    "            data=data, \n",
    "            showmeans=True,\n",
    "            meanprops={\"marker\":\"o\",\n",
    "                      \"markerfacecolor\":\"white\",\n",
    "                      \"markeredgecolor\":\"black\",\n",
    "                      \"markersize\":\"10\"}\n",
    "           )\n",
    "# Add the mode values to plot\n",
    "#ax.plot(positions,modes, 'bX')\n",
    "# Label the modes\n",
    "#ax.text(positions[0]+0.1, modes[0]-20, 'Female Mode', size=12)\n",
    "#ax.text(positions[1]+0.1, modes[1]-20, 'Male Mode', size=12)\n",
    "# Put the axis labels on the plot\n",
    "plt.ylabel('Pace (seconds)', size=14)\n",
    "plt.xlabel('Gender',size=14)\n",
    "# Put the chart title on the plot\n",
    "plt.title(\"Pace Times by Gender for 2006 Pike's Peak 10K Race\", size=16)\n",
    "plt.show"
   ]
  },
  {
   "cell_type": "markdown",
   "metadata": {},
   "source": [
    "### Question 3: How much time separates Chris Doe fromthe top 10 percentile of racers of the same division?\n",
    "\n",
    "In order to answer this question, we need to first know where Chris Doe sits in the data.  This can be easily done by searching the dataframe for the index associated with that name. "
   ]
  },
  {
   "cell_type": "code",
   "execution_count": 14,
   "metadata": {},
   "outputs": [
    {
     "data": {
      "text/plain": [
       "Int64Index([1640], dtype='int64')"
      ]
     },
     "execution_count": 14,
     "metadata": {},
     "output_type": "execute_result"
    }
   ],
   "source": [
    "position = df[df['Name'] == 'Chris Doe'].index\n",
    "position"
   ]
  },
  {
   "cell_type": "markdown",
   "metadata": {},
   "source": [
    "Next, since the divisions are age based, I need to know Chris's age and then we can narrow down our analysis to just those racers in the same age division, regardless of gender."
   ]
  },
  {
   "cell_type": "code",
   "execution_count": 15,
   "metadata": {},
   "outputs": [
    {
     "data": {
      "text/plain": [
       "44"
      ]
     },
     "execution_count": 15,
     "metadata": {},
     "output_type": "execute_result"
    }
   ],
   "source": [
    "df['Age'][1640]"
   ]
  },
  {
   "cell_type": "code",
   "execution_count": 16,
   "metadata": {},
   "outputs": [
    {
     "data": {
      "text/html": [
       "<div>\n",
       "<style scoped>\n",
       "    .dataframe tbody tr th:only-of-type {\n",
       "        vertical-align: middle;\n",
       "    }\n",
       "\n",
       "    .dataframe tbody tr th {\n",
       "        vertical-align: top;\n",
       "    }\n",
       "\n",
       "    .dataframe thead th {\n",
       "        text-align: right;\n",
       "    }\n",
       "</style>\n",
       "<table border=\"1\" class=\"dataframe\">\n",
       "  <thead>\n",
       "    <tr style=\"text-align: right;\">\n",
       "      <th></th>\n",
       "      <th>Place</th>\n",
       "      <th>Division/Total</th>\n",
       "      <th>Num</th>\n",
       "      <th>Name</th>\n",
       "      <th>Age</th>\n",
       "      <th>Hometown</th>\n",
       "      <th>Gun Time</th>\n",
       "      <th>Net Time</th>\n",
       "      <th>Pace</th>\n",
       "      <th>Gender</th>\n",
       "      <th>Expected Net Time</th>\n",
       "      <th>Error</th>\n",
       "      <th>Err Flag</th>\n",
       "    </tr>\n",
       "  </thead>\n",
       "  <tbody>\n",
       "    <tr>\n",
       "      <th>5</th>\n",
       "      <td>6</td>\n",
       "      <td>1/110</td>\n",
       "      <td>28</td>\n",
       "      <td>Lyubov Kremleva</td>\n",
       "      <td>45</td>\n",
       "      <td>Russia</td>\n",
       "      <td>2105</td>\n",
       "      <td>2104</td>\n",
       "      <td>339</td>\n",
       "      <td>Female</td>\n",
       "      <td>2106.44769</td>\n",
       "      <td>1.001163</td>\n",
       "      <td>False</td>\n",
       "    </tr>\n",
       "    <tr>\n",
       "      <th>14</th>\n",
       "      <td>15</td>\n",
       "      <td>2/110</td>\n",
       "      <td>834</td>\n",
       "      <td>Cindy Conant</td>\n",
       "      <td>45</td>\n",
       "      <td>Kensington MD</td>\n",
       "      <td>2376</td>\n",
       "      <td>2374</td>\n",
       "      <td>382</td>\n",
       "      <td>Female</td>\n",
       "      <td>2373.63722</td>\n",
       "      <td>0.999847</td>\n",
       "      <td>False</td>\n",
       "    </tr>\n",
       "    <tr>\n",
       "      <th>16</th>\n",
       "      <td>17</td>\n",
       "      <td>1/173</td>\n",
       "      <td>2013</td>\n",
       "      <td>Laura Nelson</td>\n",
       "      <td>40</td>\n",
       "      <td>Woodstock VA</td>\n",
       "      <td>2388</td>\n",
       "      <td>2385</td>\n",
       "      <td>384</td>\n",
       "      <td>Female</td>\n",
       "      <td>2386.06464</td>\n",
       "      <td>1.000446</td>\n",
       "      <td>False</td>\n",
       "    </tr>\n",
       "    <tr>\n",
       "      <th>18</th>\n",
       "      <td>19</td>\n",
       "      <td>2/173</td>\n",
       "      <td>1596</td>\n",
       "      <td>Sheryl Kline</td>\n",
       "      <td>43</td>\n",
       "      <td>Arnold MD</td>\n",
       "      <td>2408</td>\n",
       "      <td>2405</td>\n",
       "      <td>387</td>\n",
       "      <td>Female</td>\n",
       "      <td>2404.70577</td>\n",
       "      <td>0.999878</td>\n",
       "      <td>False</td>\n",
       "    </tr>\n",
       "    <tr>\n",
       "      <th>23</th>\n",
       "      <td>24</td>\n",
       "      <td>3/110</td>\n",
       "      <td>2940</td>\n",
       "      <td>Liliana Baron</td>\n",
       "      <td>47</td>\n",
       "      <td>Potomac MD</td>\n",
       "      <td>2446</td>\n",
       "      <td>2443</td>\n",
       "      <td>394</td>\n",
       "      <td>Female</td>\n",
       "      <td>2448.20174</td>\n",
       "      <td>1.002129</td>\n",
       "      <td>False</td>\n",
       "    </tr>\n",
       "    <tr>\n",
       "      <th>...</th>\n",
       "      <td>...</td>\n",
       "      <td>...</td>\n",
       "      <td>...</td>\n",
       "      <td>...</td>\n",
       "      <td>...</td>\n",
       "      <td>...</td>\n",
       "      <td>...</td>\n",
       "      <td>...</td>\n",
       "      <td>...</td>\n",
       "      <td>...</td>\n",
       "      <td>...</td>\n",
       "      <td>...</td>\n",
       "      <td>...</td>\n",
       "    </tr>\n",
       "    <tr>\n",
       "      <th>2155</th>\n",
       "      <td>1050</td>\n",
       "      <td>187/214</td>\n",
       "      <td>2845</td>\n",
       "      <td>Jeffrey Zavadil</td>\n",
       "      <td>40</td>\n",
       "      <td>Rockville MD</td>\n",
       "      <td>63</td>\n",
       "      <td>3584</td>\n",
       "      <td>577</td>\n",
       "      <td>Male</td>\n",
       "      <td>3585.31067</td>\n",
       "      <td>1.000366</td>\n",
       "      <td>False</td>\n",
       "    </tr>\n",
       "    <tr>\n",
       "      <th>2161</th>\n",
       "      <td>1056</td>\n",
       "      <td>168/201</td>\n",
       "      <td>2000</td>\n",
       "      <td>Mark Nagurney</td>\n",
       "      <td>47</td>\n",
       "      <td>Laurel MD</td>\n",
       "      <td>64</td>\n",
       "      <td>3591</td>\n",
       "      <td>578</td>\n",
       "      <td>Male</td>\n",
       "      <td>3591.52438</td>\n",
       "      <td>1.000146</td>\n",
       "      <td>False</td>\n",
       "    </tr>\n",
       "    <tr>\n",
       "      <th>2163</th>\n",
       "      <td>1058</td>\n",
       "      <td>169/201</td>\n",
       "      <td>764</td>\n",
       "      <td>Kim Chan</td>\n",
       "      <td>47</td>\n",
       "      <td>Brookeville MD</td>\n",
       "      <td>64</td>\n",
       "      <td>3593</td>\n",
       "      <td>579</td>\n",
       "      <td>Male</td>\n",
       "      <td>3597.73809</td>\n",
       "      <td>1.001319</td>\n",
       "      <td>False</td>\n",
       "    </tr>\n",
       "    <tr>\n",
       "      <th>2164</th>\n",
       "      <td>1059</td>\n",
       "      <td>170/201</td>\n",
       "      <td>2256</td>\n",
       "      <td>Jonathan Reiner</td>\n",
       "      <td>46</td>\n",
       "      <td>Potomac MD</td>\n",
       "      <td>63</td>\n",
       "      <td>3593</td>\n",
       "      <td>579</td>\n",
       "      <td>Male</td>\n",
       "      <td>3597.73809</td>\n",
       "      <td>1.001319</td>\n",
       "      <td>False</td>\n",
       "    </tr>\n",
       "    <tr>\n",
       "      <th>2168</th>\n",
       "      <td>1063</td>\n",
       "      <td>188/214</td>\n",
       "      <td>996</td>\n",
       "      <td>Mitchell Dowdy</td>\n",
       "      <td>40</td>\n",
       "      <td>Gaithersburg MD</td>\n",
       "      <td>63</td>\n",
       "      <td>3597</td>\n",
       "      <td>579</td>\n",
       "      <td>Male</td>\n",
       "      <td>3597.73809</td>\n",
       "      <td>1.000205</td>\n",
       "      <td>False</td>\n",
       "    </tr>\n",
       "  </tbody>\n",
       "</table>\n",
       "<p>543 rows × 13 columns</p>\n",
       "</div>"
      ],
      "text/plain": [
       "      Place Division/Total   Num             Name  Age         Hometown  \\\n",
       "5         6          1/110    28  Lyubov Kremleva   45          Russia    \n",
       "14       15          2/110   834     Cindy Conant   45    Kensington MD   \n",
       "16       17          1/173  2013     Laura Nelson   40     Woodstock VA   \n",
       "18       19          2/173  1596     Sheryl Kline   43        Arnold MD   \n",
       "23       24          3/110  2940    Liliana Baron   47       Potomac MD   \n",
       "...     ...            ...   ...              ...  ...              ...   \n",
       "2155   1050        187/214  2845  Jeffrey Zavadil   40     Rockville MD   \n",
       "2161   1056        168/201  2000    Mark Nagurney   47        Laurel MD   \n",
       "2163   1058        169/201   764         Kim Chan   47   Brookeville MD   \n",
       "2164   1059        170/201  2256  Jonathan Reiner   46       Potomac MD   \n",
       "2168   1063        188/214   996   Mitchell Dowdy   40  Gaithersburg MD   \n",
       "\n",
       "      Gun Time  Net Time  Pace  Gender  Expected Net Time     Error  Err Flag  \n",
       "5         2105      2104   339  Female         2106.44769  1.001163     False  \n",
       "14        2376      2374   382  Female         2373.63722  0.999847     False  \n",
       "16        2388      2385   384  Female         2386.06464  1.000446     False  \n",
       "18        2408      2405   387  Female         2404.70577  0.999878     False  \n",
       "23        2446      2443   394  Female         2448.20174  1.002129     False  \n",
       "...        ...       ...   ...     ...                ...       ...       ...  \n",
       "2155        63      3584   577    Male         3585.31067  1.000366     False  \n",
       "2161        64      3591   578    Male         3591.52438  1.000146     False  \n",
       "2163        64      3593   579    Male         3597.73809  1.001319     False  \n",
       "2164        63      3593   579    Male         3597.73809  1.001319     False  \n",
       "2168        63      3597   579    Male         3597.73809  1.000205     False  \n",
       "\n",
       "[543 rows x 13 columns]"
      ]
     },
     "execution_count": 16,
     "metadata": {},
     "output_type": "execute_result"
    }
   ],
   "source": [
    "sub_df = df[df['Age'].between(40,49)].copy()\n",
    "sub_df"
   ]
  },
  {
   "cell_type": "markdown",
   "metadata": {},
   "source": [
    "Next, I will add a columns that calculates the percentile block for each racer. From that subset of data, we can find the closest to the 10% percentile ranked racer, as well as Chris's time.  This can be done one of two ways:\n",
    "1. Chris can be compared against the other male racers only\n",
    "2. Chris can be compared against all races in the same age bracket\n",
    "\n",
    "We will look at both of these possibilities."
   ]
  },
  {
   "cell_type": "code",
   "execution_count": 17,
   "metadata": {},
   "outputs": [
    {
     "data": {
      "text/html": [
       "<div>\n",
       "<style scoped>\n",
       "    .dataframe tbody tr th:only-of-type {\n",
       "        vertical-align: middle;\n",
       "    }\n",
       "\n",
       "    .dataframe tbody tr th {\n",
       "        vertical-align: top;\n",
       "    }\n",
       "\n",
       "    .dataframe thead th {\n",
       "        text-align: right;\n",
       "    }\n",
       "</style>\n",
       "<table border=\"1\" class=\"dataframe\">\n",
       "  <thead>\n",
       "    <tr style=\"text-align: right;\">\n",
       "      <th></th>\n",
       "      <th>Place</th>\n",
       "      <th>Division/Total</th>\n",
       "      <th>Num</th>\n",
       "      <th>Name</th>\n",
       "      <th>Age</th>\n",
       "      <th>Hometown</th>\n",
       "      <th>Gun Time</th>\n",
       "      <th>Net Time</th>\n",
       "      <th>Pace</th>\n",
       "      <th>Gender</th>\n",
       "      <th>Expected Net Time</th>\n",
       "      <th>Error</th>\n",
       "      <th>Err Flag</th>\n",
       "      <th>Percentile</th>\n",
       "    </tr>\n",
       "  </thead>\n",
       "  <tbody>\n",
       "    <tr>\n",
       "      <th>5</th>\n",
       "      <td>6</td>\n",
       "      <td>1/110</td>\n",
       "      <td>28</td>\n",
       "      <td>Lyubov Kremleva</td>\n",
       "      <td>45</td>\n",
       "      <td>Russia</td>\n",
       "      <td>2105</td>\n",
       "      <td>2104</td>\n",
       "      <td>339</td>\n",
       "      <td>Female</td>\n",
       "      <td>2106.44769</td>\n",
       "      <td>1.001163</td>\n",
       "      <td>False</td>\n",
       "      <td>0.021603</td>\n",
       "    </tr>\n",
       "    <tr>\n",
       "      <th>14</th>\n",
       "      <td>15</td>\n",
       "      <td>2/110</td>\n",
       "      <td>834</td>\n",
       "      <td>Cindy Conant</td>\n",
       "      <td>45</td>\n",
       "      <td>Kensington MD</td>\n",
       "      <td>2376</td>\n",
       "      <td>2374</td>\n",
       "      <td>382</td>\n",
       "      <td>Female</td>\n",
       "      <td>2373.63722</td>\n",
       "      <td>0.999847</td>\n",
       "      <td>False</td>\n",
       "      <td>0.063957</td>\n",
       "    </tr>\n",
       "    <tr>\n",
       "      <th>16</th>\n",
       "      <td>17</td>\n",
       "      <td>1/173</td>\n",
       "      <td>2013</td>\n",
       "      <td>Laura Nelson</td>\n",
       "      <td>40</td>\n",
       "      <td>Woodstock VA</td>\n",
       "      <td>2388</td>\n",
       "      <td>2385</td>\n",
       "      <td>384</td>\n",
       "      <td>Female</td>\n",
       "      <td>2386.06464</td>\n",
       "      <td>1.000446</td>\n",
       "      <td>False</td>\n",
       "      <td>0.067084</td>\n",
       "    </tr>\n",
       "    <tr>\n",
       "      <th>18</th>\n",
       "      <td>19</td>\n",
       "      <td>2/173</td>\n",
       "      <td>1596</td>\n",
       "      <td>Sheryl Kline</td>\n",
       "      <td>43</td>\n",
       "      <td>Arnold MD</td>\n",
       "      <td>2408</td>\n",
       "      <td>2405</td>\n",
       "      <td>387</td>\n",
       "      <td>Female</td>\n",
       "      <td>2404.70577</td>\n",
       "      <td>0.999878</td>\n",
       "      <td>False</td>\n",
       "      <td>0.073621</td>\n",
       "    </tr>\n",
       "    <tr>\n",
       "      <th>23</th>\n",
       "      <td>24</td>\n",
       "      <td>3/110</td>\n",
       "      <td>2940</td>\n",
       "      <td>Liliana Baron</td>\n",
       "      <td>47</td>\n",
       "      <td>Potomac MD</td>\n",
       "      <td>2446</td>\n",
       "      <td>2443</td>\n",
       "      <td>394</td>\n",
       "      <td>Female</td>\n",
       "      <td>2448.20174</td>\n",
       "      <td>1.002129</td>\n",
       "      <td>False</td>\n",
       "      <td>0.081296</td>\n",
       "    </tr>\n",
       "  </tbody>\n",
       "</table>\n",
       "</div>"
      ],
      "text/plain": [
       "    Place Division/Total   Num             Name  Age       Hometown  Gun Time  \\\n",
       "5       6          1/110    28  Lyubov Kremleva   45        Russia       2105   \n",
       "14     15          2/110   834     Cindy Conant   45  Kensington MD      2376   \n",
       "16     17          1/173  2013     Laura Nelson   40   Woodstock VA      2388   \n",
       "18     19          2/173  1596     Sheryl Kline   43      Arnold MD      2408   \n",
       "23     24          3/110  2940    Liliana Baron   47     Potomac MD      2446   \n",
       "\n",
       "    Net Time  Pace  Gender  Expected Net Time     Error  Err Flag  Percentile  \n",
       "5       2104   339  Female         2106.44769  1.001163     False    0.021603  \n",
       "14      2374   382  Female         2373.63722  0.999847     False    0.063957  \n",
       "16      2385   384  Female         2386.06464  1.000446     False    0.067084  \n",
       "18      2405   387  Female         2404.70577  0.999878     False    0.073621  \n",
       "23      2443   394  Female         2448.20174  1.002129     False    0.081296  "
      ]
     },
     "execution_count": 17,
     "metadata": {},
     "output_type": "execute_result"
    }
   ],
   "source": [
    "sub_df['Percentile'] = (df['Net Time']/df['Net Time'].max()).rank(pct=True)\n",
    "sub_df.head()"
   ]
  },
  {
   "cell_type": "code",
   "execution_count": 18,
   "metadata": {},
   "outputs": [
    {
     "data": {
      "text/plain": [
       "2515"
      ]
     },
     "execution_count": 18,
     "metadata": {},
     "output_type": "execute_result"
    }
   ],
   "source": [
    "ten_percentile_time = sub_df[sub_df['Percentile']<=0.1]['Net Time'].max()\n",
    "ten_percentile_time"
   ]
  },
  {
   "cell_type": "code",
   "execution_count": 21,
   "metadata": {},
   "outputs": [
    {
     "data": {
      "text/plain": [
       "2515"
      ]
     },
     "execution_count": 21,
     "metadata": {},
     "output_type": "execute_result"
    }
   ],
   "source": [
    "ten_percentile_time_male = sub_df[(sub_df['Percentile']<=0.1) & (sub_df['Gender']=='Male')]['Net Time'].max()\n",
    "ten_percentile_time_male"
   ]
  },
  {
   "cell_type": "code",
   "execution_count": 22,
   "metadata": {},
   "outputs": [
    {
     "data": {
      "text/plain": [
       "2983"
      ]
     },
     "execution_count": 22,
     "metadata": {},
     "output_type": "execute_result"
    }
   ],
   "source": [
    "cd_time = df['Net Time'][1640]\n",
    "cd_time"
   ]
  },
  {
   "cell_type": "markdown",
   "metadata": {},
   "source": [
    "Finally, we can use a histogram plot of the times to illustrate where the 10th percentile is for both genders and males only against Chris's time.  In this case, since the slowest racer in the top 10 percent was obviously male, there is no difference when we include gender, so we don't need additions to the graph, but the lines that would do this (had there been a difference) are commented out."
   ]
  },
  {
   "cell_type": "code",
   "execution_count": 63,
   "metadata": {},
   "outputs": [
    {
     "data": {
      "image/png": "[encoded data removed]",
      "text/plain": [
       "<Figure size 720x576 with 1 Axes>"
      ]
     },
     "metadata": {
      "needs_background": "light"
     },
     "output_type": "display_data"
    }
   ],
   "source": [
    "#Set up the plot variables\n",
    "fig, ax = plt.subplots(1,1,figsize=(10,8))\n",
    "\n",
    "#Plot our histogram\n",
    "sns.histplot(data=sub_df, x='Net Time')\n",
    "\n",
    "#Add vertical lines for our tenth percentiles and Chris's time\n",
    "plt.axvline(x=cd_time, color='r', linestyle='--')\n",
    "plt.axvline(x=ten_percentile_time, color='g', linestyle='--')\n",
    "#plt.axvline(x=ten_percentile_time_male, color='k', linestyle='--')\n",
    "\n",
    "#Add a spanning line for each of these possibilities\n",
    "plt.plot([ten_percentile_time,cd_time],[72,72])\n",
    "#plt.plot([ten_percentile_time_male,cd_time],[65,65])\n",
    "\n",
    "#Label our axes and title our plot\n",
    "plt.xlabel('Runners Net Time (seconds)', size=14)\n",
    "plt.ylabel('Count of Times', size=14)\n",
    "plt.title(\"Comparison of Chris Doe's Time with Top 10% for 40-49 Division\", size=16)\n",
    "\n",
    "#Label our vertical lines\n",
    "ax.text(cd_time+20, 72, \"Chris Doe's Time\", size=12)\n",
    "ax.text(ten_percentile_time-400, 72, '10% Minimum Time', size=12)\n",
    "#ax.text(ten_percentile_time-500, 65, '10% Minimum Time - Males', size=12)\n",
    "\n",
    "#Put the time delta on the graph for each possibility\n",
    "ax.text(ten_percentile_time+(cd_time-ten_percentile_time)/4, 68, '{} seconds'.format(cd_time-ten_percentile_time), size=12)\n",
    "#ax.text(ten_percentile_time_male+(cd_time-ten_percentile_time_male)/4, 62, '{} seconds'.format(cd_time-ten_percentile_time_male), size=12)\n",
    "\n",
    "#Plot the graph\n",
    "plt.show()"
   ]
  },
  {
   "cell_type": "markdown",
   "metadata": {},
   "source": [
    "### Question 4: Compare the race results of each division.\n",
    "\n",
    "In order to answer this question, we need to get the results of each division.  So that we don't end up making too many divisions, let's first see how old the oldest racer is."
   ]
  },
  {
   "cell_type": "code",
   "execution_count": 13,
   "metadata": {},
   "outputs": [
    {
     "data": {
      "text/plain": [
       "78"
      ]
     },
     "execution_count": 13,
     "metadata": {},
     "output_type": "execute_result"
    }
   ],
   "source": [
    "df['Age'].max()"
   ]
  },
  {
   "cell_type": "markdown",
   "metadata": {},
   "source": [
    "So our oldest racer would be in the 70-79 division.  Now, we can make our divisions in accordance with the data description we have.  Then, what we want to do is to create a column that indicates the division that each racer would be in."
   ]
  },
  {
   "cell_type": "code",
   "execution_count": 31,
   "metadata": {},
   "outputs": [
    {
     "data": {
      "text/html": [
       "<div>\n",
       "<style scoped>\n",
       "    .dataframe tbody tr th:only-of-type {\n",
       "        vertical-align: middle;\n",
       "    }\n",
       "\n",
       "    .dataframe tbody tr th {\n",
       "        vertical-align: top;\n",
       "    }\n",
       "\n",
       "    .dataframe thead th {\n",
       "        text-align: right;\n",
       "    }\n",
       "</style>\n",
       "<table border=\"1\" class=\"dataframe\">\n",
       "  <thead>\n",
       "    <tr style=\"text-align: right;\">\n",
       "      <th></th>\n",
       "      <th>Place</th>\n",
       "      <th>Division/Total</th>\n",
       "      <th>Num</th>\n",
       "      <th>Name</th>\n",
       "      <th>Age</th>\n",
       "      <th>Hometown</th>\n",
       "      <th>Gun Time</th>\n",
       "      <th>Net Time</th>\n",
       "      <th>Pace</th>\n",
       "      <th>Gender</th>\n",
       "      <th>Expected Net Time</th>\n",
       "      <th>Error</th>\n",
       "      <th>Err Flag</th>\n",
       "      <th>Division</th>\n",
       "    </tr>\n",
       "  </thead>\n",
       "  <tbody>\n",
       "    <tr>\n",
       "      <th>0</th>\n",
       "      <td>1</td>\n",
       "      <td>1/86</td>\n",
       "      <td>30</td>\n",
       "      <td>Florence Jepkosgei</td>\n",
       "      <td>22</td>\n",
       "      <td>Kenya</td>\n",
       "      <td>1979</td>\n",
       "      <td>1978</td>\n",
       "      <td>319</td>\n",
       "      <td>Female</td>\n",
       "      <td>1982.17349</td>\n",
       "      <td>1.002110</td>\n",
       "      <td>False</td>\n",
       "      <td>20-29</td>\n",
       "    </tr>\n",
       "    <tr>\n",
       "      <th>1</th>\n",
       "      <td>2</td>\n",
       "      <td>2/86</td>\n",
       "      <td>8</td>\n",
       "      <td>Eunice Chepkirui</td>\n",
       "      <td>21</td>\n",
       "      <td>Kenya</td>\n",
       "      <td>1994</td>\n",
       "      <td>1993</td>\n",
       "      <td>321</td>\n",
       "      <td>Female</td>\n",
       "      <td>1994.60091</td>\n",
       "      <td>1.000803</td>\n",
       "      <td>False</td>\n",
       "      <td>20-29</td>\n",
       "    </tr>\n",
       "    <tr>\n",
       "      <th>2</th>\n",
       "      <td>3</td>\n",
       "      <td>1/247</td>\n",
       "      <td>3200</td>\n",
       "      <td>Elena Orlova</td>\n",
       "      <td>36</td>\n",
       "      <td>Gaithersburg MD</td>\n",
       "      <td>2066</td>\n",
       "      <td>2065</td>\n",
       "      <td>333</td>\n",
       "      <td>Female</td>\n",
       "      <td>2069.16543</td>\n",
       "      <td>1.002017</td>\n",
       "      <td>False</td>\n",
       "      <td>30-39</td>\n",
       "    </tr>\n",
       "    <tr>\n",
       "      <th>3</th>\n",
       "      <td>4</td>\n",
       "      <td>1/173</td>\n",
       "      <td>2</td>\n",
       "      <td>Susannah Kvasnicka</td>\n",
       "      <td>34</td>\n",
       "      <td>Great Falls VA</td>\n",
       "      <td>2083</td>\n",
       "      <td>2082</td>\n",
       "      <td>335</td>\n",
       "      <td>Female</td>\n",
       "      <td>2081.59285</td>\n",
       "      <td>0.999804</td>\n",
       "      <td>False</td>\n",
       "      <td>30-39</td>\n",
       "    </tr>\n",
       "    <tr>\n",
       "      <th>4</th>\n",
       "      <td>5</td>\n",
       "      <td>1/142</td>\n",
       "      <td>6</td>\n",
       "      <td>Casey Smith</td>\n",
       "      <td>26</td>\n",
       "      <td>Arlington VA</td>\n",
       "      <td>2104</td>\n",
       "      <td>2102</td>\n",
       "      <td>339</td>\n",
       "      <td>Female</td>\n",
       "      <td>2106.44769</td>\n",
       "      <td>1.002116</td>\n",
       "      <td>False</td>\n",
       "      <td>20-29</td>\n",
       "    </tr>\n",
       "  </tbody>\n",
       "</table>\n",
       "</div>"
      ],
      "text/plain": [
       "   Place Division/Total   Num                Name  Age         Hometown  \\\n",
       "0      1           1/86    30  Florence Jepkosgei   22           Kenya    \n",
       "1      2           2/86     8    Eunice Chepkirui   21           Kenya    \n",
       "2      3          1/247  3200        Elena Orlova   36  Gaithersburg MD   \n",
       "3      4          1/173     2  Susannah Kvasnicka   34   Great Falls VA   \n",
       "4      5          1/142     6         Casey Smith   26     Arlington VA   \n",
       "\n",
       "   Gun Time  Net Time  Pace  Gender  Expected Net Time     Error  Err Flag  \\\n",
       "0      1979      1978   319  Female         1982.17349  1.002110     False   \n",
       "1      1994      1993   321  Female         1994.60091  1.000803     False   \n",
       "2      2066      2065   333  Female         2069.16543  1.002017     False   \n",
       "3      2083      2082   335  Female         2081.59285  0.999804     False   \n",
       "4      2104      2102   339  Female         2106.44769  1.002116     False   \n",
       "\n",
       "  Division  \n",
       "0    20-29  \n",
       "1    20-29  \n",
       "2    30-39  \n",
       "3    30-39  \n",
       "4    20-29  "
      ]
     },
     "execution_count": 31,
     "metadata": {},
     "output_type": "execute_result"
    }
   ],
   "source": [
    "divisions = [\n",
    "    df['Age'].between(0,14), \n",
    "    df['Age'].between(15,19),\n",
    "    df['Age'].between(20,29),\n",
    "    df['Age'].between(30,39),\n",
    "    df['Age'].between(40,49),\n",
    "    df['Age'].between(50,59),\n",
    "    df['Age'].between(60,69),\n",
    "    df['Age'].between(70,79)\n",
    "]\n",
    "\n",
    "values = [\"0-14\",'15-19','20-29','30-39','40-49','50-59','60-69','70-79']\n",
    "\n",
    "df['Division'] = np.select(divisions, values, 0)\n",
    "df.head()"
   ]
  },
  {
   "cell_type": "markdown",
   "metadata": {},
   "source": [
    "Now, we can look at the statistics for each division, which should give us a good view of what we are dealing with.  We will avoid the mode values for now, as those are more likely to clutter up and degrade our visualization."
   ]
  },
  {
   "cell_type": "code",
   "execution_count": 59,
   "metadata": {},
   "outputs": [
    {
     "data": {
      "text/plain": [
       "<function matplotlib.pyplot.show(close=None, block=None)>"
      ]
     },
     "execution_count": 59,
     "metadata": {},
     "output_type": "execute_result"
    },
    {
     "data": {
      "image/png": "[encoded data removed]",
      "text/plain": [
       "<Figure size 864x720 with 1 Axes>"
      ]
     },
     "metadata": {
      "needs_background": "light"
     },
     "output_type": "display_data"
    }
   ],
   "source": [
    "# Section off the data we want for plotting\n",
    "data = df[['Gender','Division','Net Time']].copy()\n",
    "\n",
    "#data_long = pd.melt(data, id_vars=\"Gender\", var_name='Gender')\n",
    "\n",
    "# Create our plot variables\n",
    "fig, ax = plt.subplots(1,1,figsize=(12,10))\n",
    "# Use Seaborn's boxplot to plot the Net Time by Gender and include the mean values on plot\n",
    "sns.boxplot(x='Division', \n",
    "            hue='Gender',\n",
    "            y='Net Time', \n",
    "            order=values,\n",
    "            data=data, \n",
    "            showmeans=True,\n",
    "            meanprops={\"marker\":\"o\",\n",
    "                      \"markerfacecolor\":\"white\",\n",
    "                      \"markeredgecolor\":\"black\",\n",
    "                      \"markersize\":\"10\"}\n",
    "           )\n",
    "\n",
    "# Put the axis labels on the plot\n",
    "plt.ylabel('Time (seconds)', size=14)\n",
    "plt.xlabel('Age Divisions',size=14)\n",
    "# Put the chart title on the plot\n",
    "plt.title(\"Race Results by Division for 2006 Pike's Peak 10K Race\", size=16)\n",
    "plt.show"
   ]
  },
  {
   "cell_type": "markdown",
   "metadata": {},
   "source": [
    "So we can see that the fastest runners are in the 20-29 age division for males and females.  In general, male runners tend to peak in that age division and then taper off with age.  In contrast, female runners maintain similar low times across the 20-59 age range.  "
   ]
  }
 ],
 "metadata": {
  "kernelspec": {
   "display_name": "Python 3",
   "language": "python",
   "name": "python3"
  },
  "language_info": {
   "codemirror_mode": {
    "name": "ipython",
    "version": 3
   },
   "file_extension": ".py",
   "mimetype": "text/x-python",
   "name": "python",
   "nbconvert_exporter": "python",
   "pygments_lexer": "ipython3",
   "version": "3.8.5"
  }
 },
 "nbformat": 4,
 "nbformat_minor": 4
}
