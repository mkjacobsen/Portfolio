{
 "cells": [
  {
   "cell_type": "markdown",
   "metadata": {},
   "source": [
    "# Identifying Tactical Graphics via Machine Learning Classification - Part 2\n",
    "## By: Matthew Jacobsen, updated: 5/28/2020\n",
    "\n",
    "Welcome to the second part of this walkthrough! As you'll recall from Part 1, we are working to build a machine learning classifier for the automated characterization of tactical graphics, as part of enhancing the evaluation of command and control systems for military purposes. In Part 1, we created a set of graphics that can be used to train and test our machine learning classifier.  \n",
    "\n",
    "In Part 2, we will work our way through the actual process of preparing the data set, creating the classifier, and training it.  By the end of this part, we will have a working classifier and some idea how accurate it is for the most generic of tactical graphics. In order to accomplish this, we will start by appropriately arranging the data into a format for the Scikit Learn package.  Then, we will construct our classifier and train it.  Finally, we will test the accuracy against a set of validation data that the classifier will not have seen before.  \n",
    "\n",
    "Let's get started, shall we?\n",
    "\n",
    "### Preparing the Training Dataset\n",
    "\n",
    "As an outcome of Part 1, we created the images that would be used for training our algorithm. While we can use these on their own, the goal is to make this process usable outside of this walkthrough, so we'll do a little more work to make this information more easy to use. In addition to adding the various data elements to this data dictionary, we will also resize any images that happened to be larger than 40x40 pixels. Given that we are using 2525c standard graphics, we'll name these as such and pickle them for later use. "
   ]
  },
  {
   "cell_type": "code",
   "execution_count": 1,
   "metadata": {},
   "outputs": [],
   "source": [
    "def label_onehot_encoding(index):\n",
    "    cur_list = [0,0,0,0,0,0,0]\n",
    "    cur_list[index-1] = 1\n",
    "    return np.asarray(cur_list)"
   ]
  },
  {
   "cell_type": "code",
   "execution_count": 2,
   "metadata": {},
   "outputs": [
    {
     "name": "stderr",
     "output_type": "stream",
     "text": [
      "100%|███████████████████████████████████████████████████████████████████████████| 32963/32963 [00:47<00:00, 690.42it/s]\n"
     ]
    },
    {
     "data": {
      "image/png": "[encoded data removed]",
      "text/plain": [
       "<Figure size 432x288 with 1 Axes>"
      ]
     },
     "metadata": {
      "needs_background": "light"
     },
     "output_type": "display_data"
    }
   ],
   "source": [
    "%matplotlib inline\n",
    "import os\n",
    "import matplotlib.pyplot as plt\n",
    "import cv2\n",
    "import pickle\n",
    "import numpy as np\n",
    "from tqdm import tqdm\n",
    "\n",
    "os.chdir(r'C:\\Users\\Matt\\Documents\\Personal File\\Python Code Packages\\Tool Assisted Analysis Suite\\GraphicIdentificationMachineLearning\\testset')\n",
    "\n",
    "training_data = []\n",
    "labels = []\n",
    "\n",
    "OUTSIZE = 40\n",
    "for file in tqdm(os.listdir()):\n",
    "    img = cv2.imread(file)\n",
    "    label = file[:file.find('_')]\n",
    "    if label not in labels:\n",
    "        labels.append(label)\n",
    "        lbl_idx = labels.index(label)\n",
    "    else:\n",
    "        lbl_idx = labels.index(label)\n",
    "    adj_img = cv2.resize(img, (OUTSIZE, OUTSIZE))\n",
    "    training_data.append([adj_img, label_onehot_encoding(lbl_idx)])\n"
   ]
  },
  {
   "cell_type": "markdown",
   "metadata": {},
   "source": [
    "In order to maintain the separation between our validation and training data, we will repeat this process and create a separate pickled dataset for the validation images.  "
   ]
  },
  {
   "cell_type": "code",
   "execution_count": 3,
   "metadata": {},
   "outputs": [
    {
     "name": "stderr",
     "output_type": "stream",
     "text": [
      "100%|██████████████████████████████████████████████████████████████████████████████| 105/105 [00:00<00:00, 1670.08it/s]\n"
     ]
    }
   ],
   "source": [
    "os.chdir(r'C:\\Users\\Matt\\Documents\\Personal File\\Python Code Packages\\Tool Assisted Analysis Suite\\GraphicIdentificationMachineLearning\\validationset')\n",
    "\n",
    "validation_data = []\n",
    "\n",
    "OUTSIZE = 40\n",
    "\n",
    "for file in tqdm(os.listdir()):\n",
    "    img = cv2.imread(file)\n",
    "    label = file[:file.find('_')]\n",
    "    lbl_idx = labels.index(label)\n",
    "    adj_img = cv2.resize(img, (OUTSIZE, OUTSIZE))\n",
    "    validation_data.append([adj_img, label_onehot_encoding(lbl_idx)])\n",
    "    "
   ]
  },
  {
   "cell_type": "markdown",
   "metadata": {},
   "source": [
    "### Preparing the X and y data sets for Training\n",
    "\n",
    "Now that we have our data imported, we'll have to do some manipulation in order to get it into a format and order that will work well for the training.  First, let's import the packages we need for this section."
   ]
  },
  {
   "cell_type": "code",
   "execution_count": 4,
   "metadata": {},
   "outputs": [],
   "source": [
    "%matplotlib inline\n",
    " \n",
    "import numpy as np\n",
    "import matplotlib.pyplot as plt\n",
    "import random"
   ]
  },
  {
   "cell_type": "markdown",
   "metadata": {},
   "source": [
    "Just to illustrate what type of problem we'd have if we trained our classifier right now, let's look at our encoded labels.  Recall that each column is one of our affiliation labels, so let's see what we've got right now."
   ]
  },
  {
   "cell_type": "code",
   "execution_count": 5,
   "metadata": {},
   "outputs": [
    {
     "name": "stdout",
     "output_type": "stream",
     "text": [
      "[0 0 0 0 0 0 1]\n",
      "[0 0 0 0 0 0 1]\n",
      "[0 0 0 0 0 0 1]\n",
      "[0 0 0 0 0 0 1]\n",
      "[0 0 0 0 0 0 1]\n",
      "[0 0 0 0 0 0 1]\n",
      "[0 0 0 0 0 0 1]\n",
      "[0 0 0 0 0 0 1]\n",
      "[0 0 0 0 0 0 1]\n",
      "[0 0 0 0 0 0 1]\n"
     ]
    }
   ],
   "source": [
    "for item in training_data[:10]:\n",
    "    print(item[1])"
   ]
  },
  {
   "cell_type": "markdown",
   "metadata": {},
   "source": [
    "For the record, we should expect this.  Our code for compiling the information in the previous section was sequential and would have gone in the order the files are displayed in a file browser (so, alphabetical and numerically ordered).  Let's take care of that before moving on.  "
   ]
  },
  {
   "cell_type": "code",
   "execution_count": 6,
   "metadata": {},
   "outputs": [
    {
     "name": "stdout",
     "output_type": "stream",
     "text": [
      "[0 0 0 0 0 0 1]\n",
      "[1 0 0 0 0 0 0]\n",
      "[1 0 0 0 0 0 0]\n",
      "[0 0 0 0 0 1 0]\n",
      "[0 0 0 1 0 0 0]\n",
      "[0 0 1 0 0 0 0]\n",
      "[0 0 0 0 0 0 1]\n",
      "[0 0 0 0 0 1 0]\n",
      "[0 0 0 0 0 1 0]\n",
      "[0 0 1 0 0 0 0]\n"
     ]
    }
   ],
   "source": [
    "random.shuffle(training_data)\n",
    "\n",
    "for item in training_data[:10]:\n",
    "    print(item[1])"
   ]
  },
  {
   "cell_type": "markdown",
   "metadata": {},
   "source": [
    "That's better. However, why would we want to do this? If we had proceeded, the classifier would have learned to predict everything as the last category, then the next, then the next, and on and on.  At the end, it would have uniformly predicted a single class for everything, which is not very useful. \n",
    "\n",
    "Next, let's get our inputs and labels ready for the classifier.  We'll go through and separate the lists into X (inputs) and y (labels).  We'll also need to reshape the X array and normalize by dividing by 255.0 (the max value for a pixel is 255 in any of the colors).  We'll also convert y to a Numpy array and then pickle the data so we don't have to do all this work again."
   ]
  },
  {
   "cell_type": "code",
   "execution_count": 15,
   "metadata": {},
   "outputs": [],
   "source": [
    "X = []\n",
    "y = []\n",
    "\n",
    "for features,label in training_data:\n",
    "    X.append(features)\n",
    "    y.append(label)\n",
    "\n",
    "\n",
    "X = np.array(X).reshape(-1, OUTSIZE, OUTSIZE, 3)\n",
    "\n",
    "X = X/255.0\n",
    "y = np.asarray(y)\n",
    "\n",
    "with open('milstd2525c_training_X.pkl','wb') as outfile:\n",
    "    pickle.dump(X, outfile, protocol=2)\n",
    "\n",
    "\n",
    "with open('milstd2525c_training_y.pkl','wb') as outfile:\n",
    "    pickle.dump(y, outfile, protocol=2)"
   ]
  },
  {
   "cell_type": "markdown",
   "metadata": {},
   "source": [
    "Just to illustrate again that what we've got are images and labels, let's show an example.  "
   ]
  },
  {
   "cell_type": "code",
   "execution_count": 16,
   "metadata": {},
   "outputs": [
    {
     "name": "stdout",
     "output_type": "stream",
     "text": [
      "Anticipated\n"
     ]
    },
    {
     "data": {
      "text/plain": [
       "<matplotlib.image.AxesImage at 0x14aade5bdc8>"
      ]
     },
     "execution_count": 16,
     "metadata": {},
     "output_type": "execute_result"
    },
    {
     "data": {
      "image/png": "[encoded data removed]",
      "text/plain": [
       "<Figure size 432x288 with 1 Axes>"
      ]
     },
     "metadata": {
      "needs_background": "light"
     },
     "output_type": "display_data"
    }
   ],
   "source": [
    "y_idx = y[1]\n",
    "print(labels[list(y_idx).index(1)])\n",
    "plt.imshow(X[1])"
   ]
  },
  {
   "cell_type": "markdown",
   "metadata": {},
   "source": [
    "Also to check that the images are, as we expect 40 by 40 pixels, with 3 color channels (Red, Green, and Blue), let's take a look. "
   ]
  },
  {
   "cell_type": "code",
   "execution_count": 17,
   "metadata": {},
   "outputs": [
    {
     "data": {
      "text/plain": [
       "(40, 40, 3)"
      ]
     },
     "execution_count": 17,
     "metadata": {},
     "output_type": "execute_result"
    }
   ],
   "source": [
    "img = X[0]\n",
    "img.shape"
   ]
  },
  {
   "cell_type": "markdown",
   "metadata": {},
   "source": [
    "Now we are mostly ready for building our classifier.  \n",
    "\n",
    "### Training the Classifier\n",
    "\n",
    "As there are many examples of how to do image classification online, it should come as no surprise that we are going to be building a Convolutional Neural Network for this task.  First, let's import our packages, which include pickle, matplotlib, os, and tensforflow (along with several sub-packages).  For now, we'll stick with a more canned example, but later on we'll take a look at how to optimize this. Recall that there are **lots** of graphics that will need classification, so optimization will be necessary later on. "
   ]
  },
  {
   "cell_type": "code",
   "execution_count": 18,
   "metadata": {},
   "outputs": [],
   "source": [
    "import tensorflow as tf\n",
    "from tensorflow.keras.preprocessing.image import ImageDataGenerator\n",
    "from tensorflow.keras.models import Sequential\n",
    "from tensorflow.keras.layers import Dense,Dropout,Activation,Flatten,Conv2D,MaxPooling2D\n",
    "\n",
    "import os\n",
    "import pickle\n",
    "import matplotlib.pyplot as plt\n",
    "\n",
    "os.chdir(r'C:\\Users\\Matt\\Documents\\Personal File\\Python Code Packages\\Tool Assisted Analysis Suite\\GraphicIdentificationMachineLearning')"
   ]
  },
  {
   "cell_type": "markdown",
   "metadata": {},
   "source": [
    "Now, let's build our sequential neural network model.  We start by telling python that it is sequential, then use a convolutional layer, followed by an activation layer and a MaxPooling layer.  These effectively take the image data and start to search for features that would help to identify what we are trying to classify. For the moment, we'll use a two layer network, although we could do more or less.\n",
    "\n",
    "After going through this, we need to flatten our 2D information into one dimension and then pass to two dense neuron layers.  The first is used to accumulate the information learned from the convolutional layers, with the last one being our predictive layer.  Finally, we give the output layer an activation.  \n",
    "\n",
    "We'll then build the network using categorical_crossentropy as the loss function (since we are doing a categorical model).  We'll use the adam optimizer and use accuracy for the metric.  "
   ]
  },
  {
   "cell_type": "code",
   "execution_count": 22,
   "metadata": {},
   "outputs": [],
   "source": [
    "model = Sequential()\n",
    "\n",
    "model.add(Conv2D(256, kernel_size=(3,3), input_shape=X.shape[1:]))\n",
    "model.add(Activation('relu'))\n",
    "model.add(MaxPooling2D(pool_size=(2,2)))\n",
    "\n",
    "model.add(Conv2D(256, kernel_size=(3,3)))\n",
    "model.add(Activation('relu'))\n",
    "model.add(MaxPooling2D(pool_size=(2,2)))\n",
    "\n",
    "model.add(Flatten())\n",
    "\n",
    "model.add(Dense(128))\n",
    "model.add(Dense(len(labels)))\n",
    "model.add(Activation('sigmoid'))\n",
    "\n",
    "model.compile(loss='categorical_crossentropy',optimizer='adam',metrics=['accuracy'])"
   ]
  },
  {
   "cell_type": "markdown",
   "metadata": {},
   "source": [
    "Let's fit that puppy and see how we do.  We'll start off with two epochs through the data and a 20% split for the test based validation data."
   ]
  },
  {
   "cell_type": "code",
   "execution_count": 23,
   "metadata": {},
   "outputs": [
    {
     "name": "stdout",
     "output_type": "stream",
     "text": [
      "Epoch 1/2\n",
      "825/825 [==============================] - 332s 403ms/step - loss: 0.0598 - accuracy: 0.9749 - val_loss: 1.2088e-04 - val_accuracy: 1.0000\n",
      "Epoch 2/2\n",
      "825/825 [==============================] - 396s 480ms/step - loss: 3.9408e-05 - accuracy: 1.0000 - val_loss: 2.5672e-05 - val_accuracy: 1.0000\n"
     ]
    },
    {
     "data": {
      "text/plain": [
       "<tensorflow.python.keras.callbacks.History at 0x14aafcb8f88>"
      ]
     },
     "execution_count": 23,
     "metadata": {},
     "output_type": "execute_result"
    }
   ],
   "source": [
    "model.fit(X,y, epochs=2, validation_split=0.2)"
   ]
  },
  {
   "cell_type": "markdown",
   "metadata": {},
   "source": [
    "So, after two epochs, the classifier appears to be able to predict with relatively high accuracy what the affiliation of our graphics is.  In the next section, we'll test that with our separate validation data.  For now, let's save the model out, so we have a record."
   ]
  },
  {
   "cell_type": "code",
   "execution_count": 88,
   "metadata": {},
   "outputs": [],
   "source": [
    "model.save('aff_model.h5')"
   ]
  },
  {
   "cell_type": "markdown",
   "metadata": {},
   "source": [
    "### Testing the Classifier\n",
    "\n",
    "Althogh we were performing validation in the previous section by splitting our training data, recall that we also prepared a validation set to use for this purpose.  Let's see how our classifier does in this case.  We start by processing the validation data set in the same way that we did the training data set.  "
   ]
  },
  {
   "cell_type": "code",
   "execution_count": 24,
   "metadata": {},
   "outputs": [],
   "source": [
    "X_val = []\n",
    "y_val = []\n",
    "\n",
    "for features,label in validation_data:\n",
    "    X_val.append(features)\n",
    "    y_val.append(label)\n",
    "\n",
    "\n",
    "X_val = np.array(X_val).reshape(-1, OUTSIZE, OUTSIZE, 3)\n",
    "\n",
    "X_val = X_val/255.0\n",
    "y_val = np.asarray(y_val)"
   ]
  },
  {
   "cell_type": "markdown",
   "metadata": {},
   "source": [
    "Just to show that the data is the same as the validation data (as far as a graphic overlaid on a map image, with a label), here's an example. "
   ]
  },
  {
   "cell_type": "code",
   "execution_count": 53,
   "metadata": {},
   "outputs": [
    {
     "name": "stdout",
     "output_type": "stream",
     "text": [
      "Anticipated\n"
     ]
    },
    {
     "data": {
      "text/plain": [
       "<matplotlib.image.AxesImage at 0x14aff6baa88>"
      ]
     },
     "execution_count": 53,
     "metadata": {},
     "output_type": "execute_result"
    },
    {
     "data": {
      "image/png": "[encoded data removed]",
      "text/plain": [
       "<Figure size 432x288 with 1 Axes>"
      ]
     },
     "metadata": {
      "needs_background": "light"
     },
     "output_type": "display_data"
    }
   ],
   "source": [
    "print(labels[np.argmax(y_val[20])])\n",
    "plt.imshow(X_val[20])"
   ]
  },
  {
   "cell_type": "markdown",
   "metadata": {},
   "source": [
    "Now, we'll go through one at a time and process the images to get the neural network classification of that image.  This will be put into a list, with the structure [Predicted Label, Actual Label, Correct or Not].  "
   ]
  },
  {
   "cell_type": "code",
   "execution_count": 81,
   "metadata": {},
   "outputs": [],
   "source": [
    "y_pred_hat = []\n",
    "y_val_results = []\n",
    "i = 0\n",
    "for i in range(len(X_val)):\n",
    "    y_pred = model.predict(X_val[i].reshape(-1, OUTSIZE, OUTSIZE, 3))\n",
    "    y_pred_hat.append(labels[np.argmax(y_pred)])\n",
    "    y_val_label = labels[np.argmax(y_val[i])]\n",
    "    if y_val_label == labels[np.argmax(y_pred)]:\n",
    "        y_val_results.append([labels[np.argmax(y_pred)], y_val_label, 1])\n",
    "    else:\n",
    "        \n",
    "        y_val_results.append([labels[np.argmax(y_pred)], y_val_label, 0])\n",
    "    i+=1"
   ]
  },
  {
   "cell_type": "markdown",
   "metadata": {},
   "source": [
    "In order to visualize this information, we can use Pandas to convert that list into a fancy DataFrame with column labels.  This will also make our statistics easier to perform. "
   ]
  },
  {
   "cell_type": "code",
   "execution_count": 86,
   "metadata": {},
   "outputs": [
    {
     "data": {
      "text/html": [
       "<div>\n",
       "<style scoped>\n",
       "    .dataframe tbody tr th:only-of-type {\n",
       "        vertical-align: middle;\n",
       "    }\n",
       "\n",
       "    .dataframe tbody tr th {\n",
       "        vertical-align: top;\n",
       "    }\n",
       "\n",
       "    .dataframe thead th {\n",
       "        text-align: right;\n",
       "    }\n",
       "</style>\n",
       "<table border=\"1\" class=\"dataframe\">\n",
       "  <thead>\n",
       "    <tr style=\"text-align: right;\">\n",
       "      <th></th>\n",
       "      <th>Prediction</th>\n",
       "      <th>Actual</th>\n",
       "      <th>Binary Agreement</th>\n",
       "    </tr>\n",
       "  </thead>\n",
       "  <tbody>\n",
       "    <tr>\n",
       "      <th>0</th>\n",
       "      <td>Unknown</td>\n",
       "      <td>Unknown</td>\n",
       "      <td>1</td>\n",
       "    </tr>\n",
       "    <tr>\n",
       "      <th>1</th>\n",
       "      <td>Unknown</td>\n",
       "      <td>Unknown</td>\n",
       "      <td>1</td>\n",
       "    </tr>\n",
       "    <tr>\n",
       "      <th>2</th>\n",
       "      <td>Unknown</td>\n",
       "      <td>Unknown</td>\n",
       "      <td>1</td>\n",
       "    </tr>\n",
       "    <tr>\n",
       "      <th>3</th>\n",
       "      <td>Unknown</td>\n",
       "      <td>Unknown</td>\n",
       "      <td>1</td>\n",
       "    </tr>\n",
       "    <tr>\n",
       "      <th>4</th>\n",
       "      <td>Unknown</td>\n",
       "      <td>Unknown</td>\n",
       "      <td>1</td>\n",
       "    </tr>\n",
       "    <tr>\n",
       "      <th>...</th>\n",
       "      <td>...</td>\n",
       "      <td>...</td>\n",
       "      <td>...</td>\n",
       "    </tr>\n",
       "    <tr>\n",
       "      <th>100</th>\n",
       "      <td>Suspect</td>\n",
       "      <td>Suspect</td>\n",
       "      <td>1</td>\n",
       "    </tr>\n",
       "    <tr>\n",
       "      <th>101</th>\n",
       "      <td>Suspect</td>\n",
       "      <td>Suspect</td>\n",
       "      <td>1</td>\n",
       "    </tr>\n",
       "    <tr>\n",
       "      <th>102</th>\n",
       "      <td>Suspect</td>\n",
       "      <td>Suspect</td>\n",
       "      <td>1</td>\n",
       "    </tr>\n",
       "    <tr>\n",
       "      <th>103</th>\n",
       "      <td>Suspect</td>\n",
       "      <td>Suspect</td>\n",
       "      <td>1</td>\n",
       "    </tr>\n",
       "    <tr>\n",
       "      <th>104</th>\n",
       "      <td>Suspect</td>\n",
       "      <td>Suspect</td>\n",
       "      <td>1</td>\n",
       "    </tr>\n",
       "  </tbody>\n",
       "</table>\n",
       "<p>105 rows × 3 columns</p>\n",
       "</div>"
      ],
      "text/plain": [
       "    Prediction   Actual  Binary Agreement\n",
       "0      Unknown  Unknown                 1\n",
       "1      Unknown  Unknown                 1\n",
       "2      Unknown  Unknown                 1\n",
       "3      Unknown  Unknown                 1\n",
       "4      Unknown  Unknown                 1\n",
       "..         ...      ...               ...\n",
       "100    Suspect  Suspect                 1\n",
       "101    Suspect  Suspect                 1\n",
       "102    Suspect  Suspect                 1\n",
       "103    Suspect  Suspect                 1\n",
       "104    Suspect  Suspect                 1\n",
       "\n",
       "[105 rows x 3 columns]"
      ]
     },
     "execution_count": 86,
     "metadata": {},
     "output_type": "execute_result"
    }
   ],
   "source": [
    "import pandas as pd\n",
    "df = pd.DataFrame(y_val_results, columns=['Prediction','Actual','Binary Agreement'])\n",
    "df"
   ]
  },
  {
   "cell_type": "code",
   "execution_count": 87,
   "metadata": {},
   "outputs": [
    {
     "data": {
      "text/html": [
       "<div>\n",
       "<style scoped>\n",
       "    .dataframe tbody tr th:only-of-type {\n",
       "        vertical-align: middle;\n",
       "    }\n",
       "\n",
       "    .dataframe tbody tr th {\n",
       "        vertical-align: top;\n",
       "    }\n",
       "\n",
       "    .dataframe thead th {\n",
       "        text-align: right;\n",
       "    }\n",
       "</style>\n",
       "<table border=\"1\" class=\"dataframe\">\n",
       "  <thead>\n",
       "    <tr style=\"text-align: right;\">\n",
       "      <th></th>\n",
       "      <th>Binary Agreement</th>\n",
       "    </tr>\n",
       "  </thead>\n",
       "  <tbody>\n",
       "    <tr>\n",
       "      <th>count</th>\n",
       "      <td>105.0</td>\n",
       "    </tr>\n",
       "    <tr>\n",
       "      <th>mean</th>\n",
       "      <td>1.0</td>\n",
       "    </tr>\n",
       "    <tr>\n",
       "      <th>std</th>\n",
       "      <td>0.0</td>\n",
       "    </tr>\n",
       "    <tr>\n",
       "      <th>min</th>\n",
       "      <td>1.0</td>\n",
       "    </tr>\n",
       "    <tr>\n",
       "      <th>25%</th>\n",
       "      <td>1.0</td>\n",
       "    </tr>\n",
       "    <tr>\n",
       "      <th>50%</th>\n",
       "      <td>1.0</td>\n",
       "    </tr>\n",
       "    <tr>\n",
       "      <th>75%</th>\n",
       "      <td>1.0</td>\n",
       "    </tr>\n",
       "    <tr>\n",
       "      <th>max</th>\n",
       "      <td>1.0</td>\n",
       "    </tr>\n",
       "  </tbody>\n",
       "</table>\n",
       "</div>"
      ],
      "text/plain": [
       "       Binary Agreement\n",
       "count             105.0\n",
       "mean                1.0\n",
       "std                 0.0\n",
       "min                 1.0\n",
       "25%                 1.0\n",
       "50%                 1.0\n",
       "75%                 1.0\n",
       "max                 1.0"
      ]
     },
     "execution_count": 87,
     "metadata": {},
     "output_type": "execute_result"
    }
   ],
   "source": [
    "df.describe()"
   ]
  },
  {
   "cell_type": "markdown",
   "metadata": {},
   "source": [
    "So, we are still flying high with this.  With 105 sample images to validate against, the classifier got all of them right.  While there are some caveats to this way of doing things, this is still a pretty impressive result.  \n",
    "\n",
    "### Caveats of Use\n",
    "\n",
    "As was mentioned earlier, there are some caveats to the use of this example classifier.  Some of the standout issues that we glossed over in this tutorial include:\n",
    "\n",
    " - The volume of graphics: There is a *huge* volume of military standard graphics to classify.  We could build a single neural network that would try to classify them all, but this is likely going to be a ridiculous task and won't really help us. \n",
    " \n",
    " - The variability of graphics: The examples we used all represent a generic **land military unit**. In part, this is because it reduces the problem space significantly, but it is a simplification that we need to be aware of.  \n",
    " \n",
    "\n",
    "So, how can we construct a neural network that can handle this full task? While you may come up with a different answer, my answer to this was *don't*. From all the available literature on neural networks, it is clear that trying to build a once-over-the-moon classifier is likely to result in poor performance, an unwieldly neural network, and a very high data burden.  \n",
    "\n",
    "So, do we give up? Of course not! Let's get creative instead.  If we can (as shown here) train a classifier to label individual aspects of a graphic, based on sequential features, then we can build a hybrid classifier/decision tree (although the decision tree part is more us hardwiring the sequence) that handles features one at a time and progressively determines the label. This makes sure that (1) the problem space for each classifier is relatively small and (2) that each classifier has a small number of labels it is attempting to apply. \n",
    "\n",
    "\n",
    "### Conclusion\n",
    "\n",
    "In this walkthrough, we have covered a generic example of how to classify military graphics using machine learning techniques.  We started by obtaining the data needed, including military graphic symbology from one webside and how to merge that with automated backgrounds from Google Earth.  Then, we standardized that data and fed it into a convolutional neural network to train it on how to extract the affiliation of the graphic.  Finally, we validated that the neural network was able to accurately predict the affiliation of the graphic.  \n",
    "\n",
    "As with the other examples of work I have posted, I am humbled by your interest in reading this much of my work and appreciate your attention. If you have ideas or suggestions, or want to ask questions, feel free to send an email.  My contact information is on my (website)[mkjacobsen.github.io].  "
   ]
  }
 ],
 "metadata": {
  "kernelspec": {
   "display_name": "Python 3",
   "language": "python",
   "name": "python3"
  },
  "language_info": {
   "codemirror_mode": {
    "name": "ipython",
    "version": 3
   },
   "file_extension": ".py",
   "mimetype": "text/x-python",
   "name": "python",
   "nbconvert_exporter": "python",
   "pygments_lexer": "ipython3",
   "version": "3.7.6"
  }
 },
 "nbformat": 4,
 "nbformat_minor": 4
}
