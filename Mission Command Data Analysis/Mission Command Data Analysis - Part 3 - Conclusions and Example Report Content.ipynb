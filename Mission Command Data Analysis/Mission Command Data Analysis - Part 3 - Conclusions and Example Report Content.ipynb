{
 "cells": [
  {
   "cell_type": "markdown",
   "metadata": {},
   "source": [
    "# Mission Command Data Analysis - Part 3 - Conclusions and Example Report Content\n",
    "## By: Matthew Jacobsen\n",
    "\n",
    "Welcome to the final installment of the Mission Command Data Analysis walkthrough.  Up to this point, we have prepared some fictional data for a mission command tool, the MCWidget, processed that fictional data to match the data between internal and external data representations, and extracted and matched that internal data with the graphical representation extracted from a screen capture of our MCWidget.  In this installment, we will take the matched data and prepare sample report inputs to inform and advise a notional decision maker on whether or not they should put this system into use or continue development.  \n",
    "\n",
    "### Importing the data\n",
    "\n",
    "To remind ourselves what we have, let's start by getting our data up and re-reviewing it.  "
   ]
  },
  {
   "cell_type": "code",
   "execution_count": 1,
   "metadata": {},
   "outputs": [],
   "source": [
    "import pickle\n",
    "import pandas as pd\n",
    "\n",
    "with open('merged_instrumented_data_df.pkl','rb') as merged_in:\n",
    "    instrumented_data = pd.DataFrame(pickle.load(merged_in))\n",
    "    \n",
    "with open('merged_display_data_df.pkl','rb') as display_in:\n",
    "    display_data = pd.DataFrame(pickle.load(display_in))"
   ]
  },
  {
   "cell_type": "code",
   "execution_count": 2,
   "metadata": {},
   "outputs": [
    {
     "data": {
      "text/html": [
       "<div>\n",
       "<style scoped>\n",
       "    .dataframe tbody tr th:only-of-type {\n",
       "        vertical-align: middle;\n",
       "    }\n",
       "\n",
       "    .dataframe tbody tr th {\n",
       "        vertical-align: top;\n",
       "    }\n",
       "\n",
       "    .dataframe thead th {\n",
       "        text-align: right;\n",
       "    }\n",
       "</style>\n",
       "<table border=\"1\" class=\"dataframe\">\n",
       "  <thead>\n",
       "    <tr style=\"text-align: right;\">\n",
       "      <th></th>\n",
       "      <th>index</th>\n",
       "      <th>External Observed Time</th>\n",
       "      <th>To</th>\n",
       "      <th>From</th>\n",
       "      <th>Altitude</th>\n",
       "      <th>Latitude</th>\n",
       "      <th>Longitude</th>\n",
       "      <th>Speed</th>\n",
       "      <th>match_index</th>\n",
       "      <th>Internal Observed Time</th>\n",
       "      <th>altitude</th>\n",
       "      <th>from</th>\n",
       "      <th>latitude</th>\n",
       "      <th>longitude</th>\n",
       "      <th>speed</th>\n",
       "      <th>to</th>\n",
       "      <th>translation_time</th>\n",
       "      <th>network_coords</th>\n",
       "      <th>widget_coords</th>\n",
       "      <th>coords_diff</th>\n",
       "    </tr>\n",
       "  </thead>\n",
       "  <tbody>\n",
       "    <tr>\n",
       "      <th>0</th>\n",
       "      <td>0</td>\n",
       "      <td>1586214746999</td>\n",
       "      <td>4</td>\n",
       "      <td>5</td>\n",
       "      <td>1500</td>\n",
       "      <td>38.8897</td>\n",
       "      <td>77.0206</td>\n",
       "      <td>25</td>\n",
       "      <td>0.0</td>\n",
       "      <td>1586214751618</td>\n",
       "      <td>1500</td>\n",
       "      <td>5</td>\n",
       "      <td>38.8897</td>\n",
       "      <td>77.0206</td>\n",
       "      <td>25</td>\n",
       "      <td>4</td>\n",
       "      <td>4619</td>\n",
       "      <td>(38.8897, 77.0206)</td>\n",
       "      <td>(38.8897, 77.0206)</td>\n",
       "      <td>0.0</td>\n",
       "    </tr>\n",
       "    <tr>\n",
       "      <th>1</th>\n",
       "      <td>1</td>\n",
       "      <td>1586551601348</td>\n",
       "      <td>5</td>\n",
       "      <td>8</td>\n",
       "      <td>835</td>\n",
       "      <td>38.8892</td>\n",
       "      <td>77.0481</td>\n",
       "      <td>28</td>\n",
       "      <td>2.0</td>\n",
       "      <td>1586551614191</td>\n",
       "      <td>835</td>\n",
       "      <td>8</td>\n",
       "      <td>38.8892</td>\n",
       "      <td>77.0481</td>\n",
       "      <td>28</td>\n",
       "      <td>5</td>\n",
       "      <td>12843</td>\n",
       "      <td>(38.8892, 77.0481)</td>\n",
       "      <td>(38.8892, 77.0481)</td>\n",
       "      <td>0.0</td>\n",
       "    </tr>\n",
       "    <tr>\n",
       "      <th>2</th>\n",
       "      <td>2</td>\n",
       "      <td>1586515475138</td>\n",
       "      <td>1</td>\n",
       "      <td>8</td>\n",
       "      <td>1186</td>\n",
       "      <td>38.8895</td>\n",
       "      <td>77.0353</td>\n",
       "      <td>25</td>\n",
       "      <td>3.0</td>\n",
       "      <td>1586515475433</td>\n",
       "      <td>1186</td>\n",
       "      <td>8</td>\n",
       "      <td>38.8895</td>\n",
       "      <td>77.0353</td>\n",
       "      <td>25</td>\n",
       "      <td>1</td>\n",
       "      <td>295</td>\n",
       "      <td>(38.8895, 77.0353)</td>\n",
       "      <td>(38.8895, 77.0353)</td>\n",
       "      <td>0.0</td>\n",
       "    </tr>\n",
       "    <tr>\n",
       "      <th>3</th>\n",
       "      <td>3</td>\n",
       "      <td>1586271176350</td>\n",
       "      <td>7</td>\n",
       "      <td>7</td>\n",
       "      <td>1834</td>\n",
       "      <td>38.8898</td>\n",
       "      <td>77.0353</td>\n",
       "      <td>16</td>\n",
       "      <td>4.0</td>\n",
       "      <td>1586271183767</td>\n",
       "      <td>1834</td>\n",
       "      <td>7</td>\n",
       "      <td>38.8898</td>\n",
       "      <td>77.0353</td>\n",
       "      <td>16</td>\n",
       "      <td>7</td>\n",
       "      <td>7417</td>\n",
       "      <td>(38.8898, 77.0353)</td>\n",
       "      <td>(38.8898, 77.0353)</td>\n",
       "      <td>0.0</td>\n",
       "    </tr>\n",
       "    <tr>\n",
       "      <th>4</th>\n",
       "      <td>4</td>\n",
       "      <td>1586627112164</td>\n",
       "      <td>6</td>\n",
       "      <td>10</td>\n",
       "      <td>2109</td>\n",
       "      <td>38.8895</td>\n",
       "      <td>77.0191</td>\n",
       "      <td>28</td>\n",
       "      <td>5.0</td>\n",
       "      <td>1586627122441</td>\n",
       "      <td>2109</td>\n",
       "      <td>10</td>\n",
       "      <td>38.8895</td>\n",
       "      <td>77.0191</td>\n",
       "      <td>28</td>\n",
       "      <td>6</td>\n",
       "      <td>10277</td>\n",
       "      <td>(38.8895, 77.0191)</td>\n",
       "      <td>(38.8895, 77.0191)</td>\n",
       "      <td>0.0</td>\n",
       "    </tr>\n",
       "  </tbody>\n",
       "</table>\n",
       "</div>"
      ],
      "text/plain": [
       "   index  External Observed Time  To  From  Altitude  Latitude  Longitude  \\\n",
       "0      0           1586214746999   4     5      1500   38.8897    77.0206   \n",
       "1      1           1586551601348   5     8       835   38.8892    77.0481   \n",
       "2      2           1586515475138   1     8      1186   38.8895    77.0353   \n",
       "3      3           1586271176350   7     7      1834   38.8898    77.0353   \n",
       "4      4           1586627112164   6    10      2109   38.8895    77.0191   \n",
       "\n",
       "   Speed  match_index  Internal Observed Time  altitude  from  latitude  \\\n",
       "0     25          0.0           1586214751618      1500     5   38.8897   \n",
       "1     28          2.0           1586551614191       835     8   38.8892   \n",
       "2     25          3.0           1586515475433      1186     8   38.8895   \n",
       "3     16          4.0           1586271183767      1834     7   38.8898   \n",
       "4     28          5.0           1586627122441      2109    10   38.8895   \n",
       "\n",
       "   longitude  speed  to  translation_time      network_coords  \\\n",
       "0    77.0206     25   4              4619  (38.8897, 77.0206)   \n",
       "1    77.0481     28   5             12843  (38.8892, 77.0481)   \n",
       "2    77.0353     25   1               295  (38.8895, 77.0353)   \n",
       "3    77.0353     16   7              7417  (38.8898, 77.0353)   \n",
       "4    77.0191     28   6             10277  (38.8895, 77.0191)   \n",
       "\n",
       "        widget_coords  coords_diff  \n",
       "0  (38.8897, 77.0206)          0.0  \n",
       "1  (38.8892, 77.0481)          0.0  \n",
       "2  (38.8895, 77.0353)          0.0  \n",
       "3  (38.8898, 77.0353)          0.0  \n",
       "4  (38.8895, 77.0191)          0.0  "
      ]
     },
     "execution_count": 2,
     "metadata": {},
     "output_type": "execute_result"
    }
   ],
   "source": [
    "instrumented_data.head()"
   ]
  },
  {
   "cell_type": "code",
   "execution_count": 3,
   "metadata": {},
   "outputs": [
    {
     "data": {
      "text/html": [
       "<div>\n",
       "<style scoped>\n",
       "    .dataframe tbody tr th:only-of-type {\n",
       "        vertical-align: middle;\n",
       "    }\n",
       "\n",
       "    .dataframe tbody tr th {\n",
       "        vertical-align: top;\n",
       "    }\n",
       "\n",
       "    .dataframe thead th {\n",
       "        text-align: right;\n",
       "    }\n",
       "</style>\n",
       "<table border=\"1\" class=\"dataframe\">\n",
       "  <thead>\n",
       "    <tr style=\"text-align: right;\">\n",
       "      <th></th>\n",
       "      <th>Latitude_x</th>\n",
       "      <th>Longitude_x</th>\n",
       "      <th>match_index_x</th>\n",
       "      <th>level_0</th>\n",
       "      <th>index</th>\n",
       "      <th>External Observed Time</th>\n",
       "      <th>To</th>\n",
       "      <th>From</th>\n",
       "      <th>Altitude</th>\n",
       "      <th>Latitude_y</th>\n",
       "      <th>...</th>\n",
       "      <th>latitude</th>\n",
       "      <th>longitude</th>\n",
       "      <th>speed</th>\n",
       "      <th>to</th>\n",
       "      <th>translation_time</th>\n",
       "      <th>network_coords</th>\n",
       "      <th>widget_coords</th>\n",
       "      <th>coords_diff</th>\n",
       "      <th>Display Time</th>\n",
       "      <th>Graphical Displacement</th>\n",
       "    </tr>\n",
       "  </thead>\n",
       "  <tbody>\n",
       "    <tr>\n",
       "      <th>0</th>\n",
       "      <td>38.889900</td>\n",
       "      <td>-77.038616</td>\n",
       "      <td>10</td>\n",
       "      <td>10</td>\n",
       "      <td>12</td>\n",
       "      <td>1586666814762</td>\n",
       "      <td>3</td>\n",
       "      <td>10</td>\n",
       "      <td>1096</td>\n",
       "      <td>38.8898</td>\n",
       "      <td>...</td>\n",
       "      <td>38.8898</td>\n",
       "      <td>77.0386</td>\n",
       "      <td>36</td>\n",
       "      <td>3</td>\n",
       "      <td>14382</td>\n",
       "      <td>(38.8898, 77.0386)</td>\n",
       "      <td>(38.8898, 77.0386)</td>\n",
       "      <td>0.0</td>\n",
       "      <td>86701759</td>\n",
       "      <td>11.206605</td>\n",
       "    </tr>\n",
       "    <tr>\n",
       "      <th>1</th>\n",
       "      <td>38.889151</td>\n",
       "      <td>-77.035916</td>\n",
       "      <td>5</td>\n",
       "      <td>5</td>\n",
       "      <td>5</td>\n",
       "      <td>1586753502109</td>\n",
       "      <td>4</td>\n",
       "      <td>5</td>\n",
       "      <td>1500</td>\n",
       "      <td>38.8895</td>\n",
       "      <td>...</td>\n",
       "      <td>38.8895</td>\n",
       "      <td>77.0353</td>\n",
       "      <td>28</td>\n",
       "      <td>4</td>\n",
       "      <td>13794</td>\n",
       "      <td>(38.8895, 77.0353)</td>\n",
       "      <td>(38.8895, 77.0353)</td>\n",
       "      <td>0.0</td>\n",
       "      <td>15000</td>\n",
       "      <td>65.990402</td>\n",
       "    </tr>\n",
       "    <tr>\n",
       "      <th>2</th>\n",
       "      <td>38.889567</td>\n",
       "      <td>-77.035332</td>\n",
       "      <td>18</td>\n",
       "      <td>18</td>\n",
       "      <td>24</td>\n",
       "      <td>1586688832759</td>\n",
       "      <td>9</td>\n",
       "      <td>4</td>\n",
       "      <td>2125</td>\n",
       "      <td>38.8895</td>\n",
       "      <td>...</td>\n",
       "      <td>38.8895</td>\n",
       "      <td>77.0353</td>\n",
       "      <td>39</td>\n",
       "      <td>9</td>\n",
       "      <td>6426</td>\n",
       "      <td>(38.8895, 77.0353)</td>\n",
       "      <td>(38.8895, 77.0353)</td>\n",
       "      <td>0.0</td>\n",
       "      <td>64691718</td>\n",
       "      <td>7.953099</td>\n",
       "    </tr>\n",
       "    <tr>\n",
       "      <th>3</th>\n",
       "      <td>38.889567</td>\n",
       "      <td>-77.020374</td>\n",
       "      <td>0</td>\n",
       "      <td>0</td>\n",
       "      <td>0</td>\n",
       "      <td>1586214746999</td>\n",
       "      <td>4</td>\n",
       "      <td>5</td>\n",
       "      <td>1500</td>\n",
       "      <td>38.8897</td>\n",
       "      <td>...</td>\n",
       "      <td>38.8897</td>\n",
       "      <td>77.0206</td>\n",
       "      <td>25</td>\n",
       "      <td>4</td>\n",
       "      <td>4619</td>\n",
       "      <td>(38.8897, 77.0206)</td>\n",
       "      <td>(38.8897, 77.0206)</td>\n",
       "      <td>0.0</td>\n",
       "      <td>538779285</td>\n",
       "      <td>24.544130</td>\n",
       "    </tr>\n",
       "    <tr>\n",
       "      <th>4</th>\n",
       "      <td>38.889434</td>\n",
       "      <td>-77.033037</td>\n",
       "      <td>14</td>\n",
       "      <td>14</td>\n",
       "      <td>18</td>\n",
       "      <td>1586520677952</td>\n",
       "      <td>10</td>\n",
       "      <td>7</td>\n",
       "      <td>1500</td>\n",
       "      <td>38.8893</td>\n",
       "      <td>...</td>\n",
       "      <td>38.8893</td>\n",
       "      <td>77.0341</td>\n",
       "      <td>27</td>\n",
       "      <td>10</td>\n",
       "      <td>10219</td>\n",
       "      <td>(38.8893, 77.0341)</td>\n",
       "      <td>(38.8893, 77.0341)</td>\n",
       "      <td>0.0</td>\n",
       "      <td>232842732</td>\n",
       "      <td>93.176023</td>\n",
       "    </tr>\n",
       "  </tbody>\n",
       "</table>\n",
       "<p>5 rows × 26 columns</p>\n",
       "</div>"
      ],
      "text/plain": [
       "   Latitude_x  Longitude_x  match_index_x  level_0  index  \\\n",
       "0   38.889900   -77.038616             10       10     12   \n",
       "1   38.889151   -77.035916              5        5      5   \n",
       "2   38.889567   -77.035332             18       18     24   \n",
       "3   38.889567   -77.020374              0        0      0   \n",
       "4   38.889434   -77.033037             14       14     18   \n",
       "\n",
       "   External Observed Time  To  From  Altitude  Latitude_y  ...  latitude  \\\n",
       "0           1586666814762   3    10      1096     38.8898  ...   38.8898   \n",
       "1           1586753502109   4     5      1500     38.8895  ...   38.8895   \n",
       "2           1586688832759   9     4      2125     38.8895  ...   38.8895   \n",
       "3           1586214746999   4     5      1500     38.8897  ...   38.8897   \n",
       "4           1586520677952  10     7      1500     38.8893  ...   38.8893   \n",
       "\n",
       "   longitude  speed  to  translation_time      network_coords  \\\n",
       "0    77.0386     36   3             14382  (38.8898, 77.0386)   \n",
       "1    77.0353     28   4             13794  (38.8895, 77.0353)   \n",
       "2    77.0353     39   9              6426  (38.8895, 77.0353)   \n",
       "3    77.0206     25   4              4619  (38.8897, 77.0206)   \n",
       "4    77.0341     27  10             10219  (38.8893, 77.0341)   \n",
       "\n",
       "        widget_coords  coords_diff  Display Time  Graphical Displacement  \n",
       "0  (38.8898, 77.0386)          0.0      86701759               11.206605  \n",
       "1  (38.8895, 77.0353)          0.0         15000               65.990402  \n",
       "2  (38.8895, 77.0353)          0.0      64691718                7.953099  \n",
       "3  (38.8897, 77.0206)          0.0     538779285               24.544130  \n",
       "4  (38.8893, 77.0341)          0.0     232842732               93.176023  \n",
       "\n",
       "[5 rows x 26 columns]"
      ]
     },
     "execution_count": 3,
     "metadata": {},
     "output_type": "execute_result"
    }
   ],
   "source": [
    "display_data.head()"
   ]
  },
  {
   "cell_type": "markdown",
   "metadata": {},
   "source": [
    "In addition to the matched data that we have above, let's also pull in the simulated raw network data we had going into the previous part.  The reason for this is that one of the metrics we'd like to report on is the Translation Success Rate, or how many messages successfully translated into the MCWidget.  In order to report that metric, we need to know how many messages *should* have translated into the system. "
   ]
  },
  {
   "cell_type": "code",
   "execution_count": 4,
   "metadata": {},
   "outputs": [],
   "source": [
    "with open('network_df.pkl','rb') as network_in:\n",
    "    network_df = pd.DataFrame(pickle.load(network_in))"
   ]
  },
  {
   "cell_type": "code",
   "execution_count": 5,
   "metadata": {},
   "outputs": [
    {
     "data": {
      "text/html": [
       "<div>\n",
       "<style scoped>\n",
       "    .dataframe tbody tr th:only-of-type {\n",
       "        vertical-align: middle;\n",
       "    }\n",
       "\n",
       "    .dataframe tbody tr th {\n",
       "        vertical-align: top;\n",
       "    }\n",
       "\n",
       "    .dataframe thead th {\n",
       "        text-align: right;\n",
       "    }\n",
       "</style>\n",
       "<table border=\"1\" class=\"dataframe\">\n",
       "  <thead>\n",
       "    <tr style=\"text-align: right;\">\n",
       "      <th></th>\n",
       "      <th>External Observed Time</th>\n",
       "      <th>To</th>\n",
       "      <th>From</th>\n",
       "      <th>Altitude</th>\n",
       "      <th>Latitude</th>\n",
       "      <th>Longitude</th>\n",
       "      <th>Speed</th>\n",
       "    </tr>\n",
       "  </thead>\n",
       "  <tbody>\n",
       "    <tr>\n",
       "      <th>0</th>\n",
       "      <td>1586214746999</td>\n",
       "      <td>4</td>\n",
       "      <td>5</td>\n",
       "      <td>1500</td>\n",
       "      <td>38.8897</td>\n",
       "      <td>77.0206</td>\n",
       "      <td>25</td>\n",
       "    </tr>\n",
       "    <tr>\n",
       "      <th>1</th>\n",
       "      <td>1586551601348</td>\n",
       "      <td>5</td>\n",
       "      <td>8</td>\n",
       "      <td>835</td>\n",
       "      <td>38.8892</td>\n",
       "      <td>77.0481</td>\n",
       "      <td>28</td>\n",
       "    </tr>\n",
       "    <tr>\n",
       "      <th>2</th>\n",
       "      <td>1586515475138</td>\n",
       "      <td>1</td>\n",
       "      <td>8</td>\n",
       "      <td>1186</td>\n",
       "      <td>38.8895</td>\n",
       "      <td>77.0353</td>\n",
       "      <td>25</td>\n",
       "    </tr>\n",
       "    <tr>\n",
       "      <th>3</th>\n",
       "      <td>1586271176350</td>\n",
       "      <td>7</td>\n",
       "      <td>7</td>\n",
       "      <td>1834</td>\n",
       "      <td>38.8898</td>\n",
       "      <td>77.0353</td>\n",
       "      <td>16</td>\n",
       "    </tr>\n",
       "    <tr>\n",
       "      <th>4</th>\n",
       "      <td>1586627112164</td>\n",
       "      <td>6</td>\n",
       "      <td>10</td>\n",
       "      <td>2109</td>\n",
       "      <td>38.8895</td>\n",
       "      <td>77.0191</td>\n",
       "      <td>28</td>\n",
       "    </tr>\n",
       "  </tbody>\n",
       "</table>\n",
       "</div>"
      ],
      "text/plain": [
       "  External Observed Time To From Altitude Latitude Longitude Speed\n",
       "0          1586214746999  4    5     1500  38.8897   77.0206    25\n",
       "1          1586551601348  5    8      835  38.8892   77.0481    28\n",
       "2          1586515475138  1    8     1186  38.8895   77.0353    25\n",
       "3          1586271176350  7    7     1834  38.8898   77.0353    16\n",
       "4          1586627112164  6   10     2109  38.8895   77.0191    28"
      ]
     },
     "execution_count": 5,
     "metadata": {},
     "output_type": "execute_result"
    }
   ],
   "source": [
    "network_df.head()"
   ]
  },
  {
   "cell_type": "markdown",
   "metadata": {},
   "source": [
    "### Generating Graphics and Results\n",
    "\n",
    "Now that we have our data imported, let's start by getting some quick metric information to include in our example report section. Some of the technical metrics that would be important here include the accuracy of the translated and displayed, the timeliness of the translated and displayed data, and the completeness of message translation (the number of network messages that translated correctly into the system).  The last of these is readily available with simple division.  \n",
    "\n",
    "$$Completeness\\  of\\  Translation = \\frac{Number\\ of\\ Translated\\  Messages}{Number \\  of \\ Sent\\  Messages}$$"
   ]
  },
  {
   "cell_type": "code",
   "execution_count": 6,
   "metadata": {},
   "outputs": [
    {
     "data": {
      "text/plain": [
       "74.19354838709677"
      ]
     },
     "execution_count": 6,
     "metadata": {},
     "output_type": "execute_result"
    }
   ],
   "source": [
    "(len(instrumented_data)/len(network_df))*100"
   ]
  },
  {
   "cell_type": "markdown",
   "metadata": {},
   "source": [
    "So the Completeness of Translation for messages is 74.19 percent.  That's not a very high success rate for translating these messages and we will certainly want to illustrate that to the decision maker. \n",
    "\n",
    "Beyond this number, let's look at the timeliness for display and for translation.  Starting with translation, we have already calculated the translation time associated with the messages we are investigating.  Let's review where that data is. "
   ]
  },
  {
   "cell_type": "code",
   "execution_count": 7,
   "metadata": {},
   "outputs": [
    {
     "data": {
      "text/plain": [
       "Index(['index', 'External Observed Time', 'To', 'From', 'Altitude', 'Latitude',\n",
       "       'Longitude', 'Speed', 'match_index', 'Internal Observed Time',\n",
       "       'altitude', 'from', 'latitude', 'longitude', 'speed', 'to',\n",
       "       'translation_time', 'network_coords', 'widget_coords', 'coords_diff'],\n",
       "      dtype='object')"
      ]
     },
     "execution_count": 7,
     "metadata": {},
     "output_type": "execute_result"
    }
   ],
   "source": [
    "instrumented_data.columns"
   ]
  },
  {
   "cell_type": "code",
   "execution_count": 8,
   "metadata": {},
   "outputs": [
    {
     "data": {
      "text/plain": [
       "count       23.000000\n",
       "mean      8919.130435\n",
       "std       4443.217950\n",
       "min        295.000000\n",
       "25%       5748.500000\n",
       "50%      10219.000000\n",
       "75%      12756.000000\n",
       "max      14859.000000\n",
       "Name: translation_time, dtype: float64"
      ]
     },
     "execution_count": 8,
     "metadata": {},
     "output_type": "execute_result"
    }
   ],
   "source": [
    "instrumented_data['translation_time'].describe()"
   ]
  },
  {
   "cell_type": "markdown",
   "metadata": {},
   "source": [
    "So, the MCWidget was able to translate 74.19% of the messages within 8.919 seconds (the value in the statistics above is in milliseconds).  We also get a standard deviation and percentiles.  However, what if we want a confidence interval for this value.  Let's make some plots for this!"
   ]
  },
  {
   "cell_type": "code",
   "execution_count": 9,
   "metadata": {},
   "outputs": [],
   "source": [
    "import matplotlib.pyplot as plt\n",
    "import seaborn as sns\n",
    "\n",
    "%matplotlib inline"
   ]
  },
  {
   "cell_type": "code",
   "execution_count": 10,
   "metadata": {},
   "outputs": [
    {
     "data": {
      "image/png": "[encoded data removed]",
      "text/plain": [
       "<Figure size 432x288 with 1 Axes>"
      ]
     },
     "metadata": {
      "needs_background": "light"
     },
     "output_type": "display_data"
    }
   ],
   "source": [
    "hist = instrumented_data['translation_time'].hist(bins=10)"
   ]
  },
  {
   "cell_type": "markdown",
   "metadata": {},
   "source": [
    "This plot is *not* intended to be informative at this point.  It's designed to help us understand if we have enough samples to draw a conclusion.  Given the distribution we see, the translation time varies significantly (by design) and appears random (also by design).  A system that is being relied on by any user, let alone Soldiers, should have a reliable translation performance.  As such, this data, along with the completeness of translation would lead us to recommend that the MCWidget is not ready to leave the development shop yet, but let's see if we can find some more supporting evidence.  For example, what does the display time look like?"
   ]
  },
  {
   "cell_type": "code",
   "execution_count": 11,
   "metadata": {},
   "outputs": [
    {
     "data": {
      "text/plain": [
       "Index(['Latitude_x', 'Longitude_x', 'match_index_x', 'level_0', 'index',\n",
       "       'External Observed Time', 'To', 'From', 'Altitude', 'Latitude_y',\n",
       "       'Longitude_y', 'Speed', 'match_index_y', 'Internal Observed Time',\n",
       "       'altitude', 'from', 'latitude', 'longitude', 'speed', 'to',\n",
       "       'translation_time', 'network_coords', 'widget_coords', 'coords_diff',\n",
       "       'Display Time', 'Graphical Displacement'],\n",
       "      dtype='object')"
      ]
     },
     "execution_count": 11,
     "metadata": {},
     "output_type": "execute_result"
    }
   ],
   "source": [
    "display_data.columns"
   ]
  },
  {
   "cell_type": "code",
   "execution_count": 12,
   "metadata": {},
   "outputs": [
    {
     "data": {
      "image/png": "[encoded data removed]",
      "text/plain": [
       "<Figure size 432x288 with 1 Axes>"
      ]
     },
     "metadata": {
      "needs_background": "light"
     },
     "output_type": "display_data"
    }
   ],
   "source": [
    "hist1 = (display_data['Display Time']/86400000).hist(bins=10)"
   ]
  },
  {
   "cell_type": "markdown",
   "metadata": {},
   "source": [
    "Alright, so we have something that looks more like a distribution here.  That said, the times are enormous (the x-axis is in days). No user should be waiting days for their data to display on the screen.  There is obviously a problem here that needs to be highlighted and we can even isolate it to after the translation layer. \n",
    "\n",
    "Beyond just timeliness do we have any issues with the data though?  Let's take a look at the instrumented displacements."
   ]
  },
  {
   "cell_type": "code",
   "execution_count": 13,
   "metadata": {},
   "outputs": [
    {
     "data": {
      "text/plain": [
       "count    23.0\n",
       "mean      0.0\n",
       "std       0.0\n",
       "min       0.0\n",
       "25%       0.0\n",
       "50%       0.0\n",
       "75%       0.0\n",
       "max       0.0\n",
       "Name: coords_diff, dtype: float64"
      ]
     },
     "execution_count": 13,
     "metadata": {},
     "output_type": "execute_result"
    }
   ],
   "source": [
    "instrumented_data['coords_diff'].describe()"
   ]
  },
  {
   "cell_type": "markdown",
   "metadata": {},
   "source": [
    "So the actual translation of the data, when it is successful seems to work as advertised.  There were no measurable differences between the network and the internal data positions.  How about for the other data that comprises the message?"
   ]
  },
  {
   "cell_type": "code",
   "execution_count": 14,
   "metadata": {},
   "outputs": [
    {
     "data": {
      "text/html": [
       "<div>\n",
       "<style scoped>\n",
       "    .dataframe tbody tr th:only-of-type {\n",
       "        vertical-align: middle;\n",
       "    }\n",
       "\n",
       "    .dataframe tbody tr th {\n",
       "        vertical-align: top;\n",
       "    }\n",
       "\n",
       "    .dataframe thead th {\n",
       "        text-align: right;\n",
       "    }\n",
       "</style>\n",
       "<table border=\"1\" class=\"dataframe\">\n",
       "  <thead>\n",
       "    <tr style=\"text-align: right;\">\n",
       "      <th></th>\n",
       "      <th>index</th>\n",
       "      <th>External Observed Time</th>\n",
       "      <th>To</th>\n",
       "      <th>From</th>\n",
       "      <th>Altitude</th>\n",
       "      <th>Latitude</th>\n",
       "      <th>Longitude</th>\n",
       "      <th>Speed</th>\n",
       "      <th>match_index</th>\n",
       "      <th>Internal Observed Time</th>\n",
       "      <th>...</th>\n",
       "      <th>speed</th>\n",
       "      <th>to</th>\n",
       "      <th>translation_time</th>\n",
       "      <th>network_coords</th>\n",
       "      <th>widget_coords</th>\n",
       "      <th>coords_diff</th>\n",
       "      <th>alt_diff</th>\n",
       "      <th>speed_diff</th>\n",
       "      <th>correct_reciever</th>\n",
       "      <th>correct_sender</th>\n",
       "    </tr>\n",
       "  </thead>\n",
       "  <tbody>\n",
       "    <tr>\n",
       "      <th>0</th>\n",
       "      <td>0</td>\n",
       "      <td>1586214746999</td>\n",
       "      <td>4</td>\n",
       "      <td>5</td>\n",
       "      <td>1500</td>\n",
       "      <td>38.8897</td>\n",
       "      <td>77.0206</td>\n",
       "      <td>25</td>\n",
       "      <td>0.0</td>\n",
       "      <td>1586214751618</td>\n",
       "      <td>...</td>\n",
       "      <td>25</td>\n",
       "      <td>4</td>\n",
       "      <td>4619</td>\n",
       "      <td>(38.8897, 77.0206)</td>\n",
       "      <td>(38.8897, 77.0206)</td>\n",
       "      <td>0.0</td>\n",
       "      <td>0</td>\n",
       "      <td>0</td>\n",
       "      <td>True</td>\n",
       "      <td>True</td>\n",
       "    </tr>\n",
       "    <tr>\n",
       "      <th>1</th>\n",
       "      <td>1</td>\n",
       "      <td>1586551601348</td>\n",
       "      <td>5</td>\n",
       "      <td>8</td>\n",
       "      <td>835</td>\n",
       "      <td>38.8892</td>\n",
       "      <td>77.0481</td>\n",
       "      <td>28</td>\n",
       "      <td>2.0</td>\n",
       "      <td>1586551614191</td>\n",
       "      <td>...</td>\n",
       "      <td>28</td>\n",
       "      <td>5</td>\n",
       "      <td>12843</td>\n",
       "      <td>(38.8892, 77.0481)</td>\n",
       "      <td>(38.8892, 77.0481)</td>\n",
       "      <td>0.0</td>\n",
       "      <td>0</td>\n",
       "      <td>0</td>\n",
       "      <td>True</td>\n",
       "      <td>True</td>\n",
       "    </tr>\n",
       "    <tr>\n",
       "      <th>2</th>\n",
       "      <td>2</td>\n",
       "      <td>1586515475138</td>\n",
       "      <td>1</td>\n",
       "      <td>8</td>\n",
       "      <td>1186</td>\n",
       "      <td>38.8895</td>\n",
       "      <td>77.0353</td>\n",
       "      <td>25</td>\n",
       "      <td>3.0</td>\n",
       "      <td>1586515475433</td>\n",
       "      <td>...</td>\n",
       "      <td>25</td>\n",
       "      <td>1</td>\n",
       "      <td>295</td>\n",
       "      <td>(38.8895, 77.0353)</td>\n",
       "      <td>(38.8895, 77.0353)</td>\n",
       "      <td>0.0</td>\n",
       "      <td>0</td>\n",
       "      <td>0</td>\n",
       "      <td>True</td>\n",
       "      <td>True</td>\n",
       "    </tr>\n",
       "    <tr>\n",
       "      <th>3</th>\n",
       "      <td>3</td>\n",
       "      <td>1586271176350</td>\n",
       "      <td>7</td>\n",
       "      <td>7</td>\n",
       "      <td>1834</td>\n",
       "      <td>38.8898</td>\n",
       "      <td>77.0353</td>\n",
       "      <td>16</td>\n",
       "      <td>4.0</td>\n",
       "      <td>1586271183767</td>\n",
       "      <td>...</td>\n",
       "      <td>16</td>\n",
       "      <td>7</td>\n",
       "      <td>7417</td>\n",
       "      <td>(38.8898, 77.0353)</td>\n",
       "      <td>(38.8898, 77.0353)</td>\n",
       "      <td>0.0</td>\n",
       "      <td>0</td>\n",
       "      <td>0</td>\n",
       "      <td>True</td>\n",
       "      <td>True</td>\n",
       "    </tr>\n",
       "    <tr>\n",
       "      <th>4</th>\n",
       "      <td>4</td>\n",
       "      <td>1586627112164</td>\n",
       "      <td>6</td>\n",
       "      <td>10</td>\n",
       "      <td>2109</td>\n",
       "      <td>38.8895</td>\n",
       "      <td>77.0191</td>\n",
       "      <td>28</td>\n",
       "      <td>5.0</td>\n",
       "      <td>1586627122441</td>\n",
       "      <td>...</td>\n",
       "      <td>28</td>\n",
       "      <td>6</td>\n",
       "      <td>10277</td>\n",
       "      <td>(38.8895, 77.0191)</td>\n",
       "      <td>(38.8895, 77.0191)</td>\n",
       "      <td>0.0</td>\n",
       "      <td>0</td>\n",
       "      <td>0</td>\n",
       "      <td>True</td>\n",
       "      <td>True</td>\n",
       "    </tr>\n",
       "  </tbody>\n",
       "</table>\n",
       "<p>5 rows × 24 columns</p>\n",
       "</div>"
      ],
      "text/plain": [
       "   index  External Observed Time  To  From  Altitude  Latitude  Longitude  \\\n",
       "0      0           1586214746999   4     5      1500   38.8897    77.0206   \n",
       "1      1           1586551601348   5     8       835   38.8892    77.0481   \n",
       "2      2           1586515475138   1     8      1186   38.8895    77.0353   \n",
       "3      3           1586271176350   7     7      1834   38.8898    77.0353   \n",
       "4      4           1586627112164   6    10      2109   38.8895    77.0191   \n",
       "\n",
       "   Speed  match_index  Internal Observed Time  ...  speed  to  \\\n",
       "0     25          0.0           1586214751618  ...     25   4   \n",
       "1     28          2.0           1586551614191  ...     28   5   \n",
       "2     25          3.0           1586515475433  ...     25   1   \n",
       "3     16          4.0           1586271183767  ...     16   7   \n",
       "4     28          5.0           1586627122441  ...     28   6   \n",
       "\n",
       "   translation_time      network_coords       widget_coords  coords_diff  \\\n",
       "0              4619  (38.8897, 77.0206)  (38.8897, 77.0206)          0.0   \n",
       "1             12843  (38.8892, 77.0481)  (38.8892, 77.0481)          0.0   \n",
       "2               295  (38.8895, 77.0353)  (38.8895, 77.0353)          0.0   \n",
       "3              7417  (38.8898, 77.0353)  (38.8898, 77.0353)          0.0   \n",
       "4             10277  (38.8895, 77.0191)  (38.8895, 77.0191)          0.0   \n",
       "\n",
       "   alt_diff speed_diff correct_reciever  correct_sender  \n",
       "0         0          0             True            True  \n",
       "1         0          0             True            True  \n",
       "2         0          0             True            True  \n",
       "3         0          0             True            True  \n",
       "4         0          0             True            True  \n",
       "\n",
       "[5 rows x 24 columns]"
      ]
     },
     "execution_count": 14,
     "metadata": {},
     "output_type": "execute_result"
    }
   ],
   "source": [
    "instrumented_data['alt_diff'] = instrumented_data['Altitude'] - instrumented_data['altitude']\n",
    "instrumented_data['speed_diff'] = instrumented_data['Speed'] - instrumented_data['speed']\n",
    "instrumented_data['correct_reciever'] = instrumented_data['To'] == instrumented_data['to']\n",
    "instrumented_data['correct_sender'] = instrumented_data['From'] == instrumented_data['from']\n",
    "instrumented_data.head()"
   ]
  },
  {
   "cell_type": "code",
   "execution_count": 15,
   "metadata": {},
   "outputs": [
    {
     "data": {
      "text/plain": [
       "count    23.0\n",
       "mean      0.0\n",
       "std       0.0\n",
       "min       0.0\n",
       "25%       0.0\n",
       "50%       0.0\n",
       "75%       0.0\n",
       "max       0.0\n",
       "Name: alt_diff, dtype: float64"
      ]
     },
     "execution_count": 15,
     "metadata": {},
     "output_type": "execute_result"
    }
   ],
   "source": [
    "instrumented_data['alt_diff'].describe()"
   ]
  },
  {
   "cell_type": "code",
   "execution_count": 16,
   "metadata": {},
   "outputs": [
    {
     "data": {
      "text/plain": [
       "count    23.0\n",
       "mean      0.0\n",
       "std       0.0\n",
       "min       0.0\n",
       "25%       0.0\n",
       "50%       0.0\n",
       "75%       0.0\n",
       "max       0.0\n",
       "Name: speed_diff, dtype: float64"
      ]
     },
     "execution_count": 16,
     "metadata": {},
     "output_type": "execute_result"
    }
   ],
   "source": [
    "instrumented_data['speed_diff'].describe()"
   ]
  },
  {
   "cell_type": "markdown",
   "metadata": {},
   "source": [
    "So here we have some good news.  The contents match up pretty well.  Let's look at the coordinate differences with what was displayed. "
   ]
  },
  {
   "cell_type": "code",
   "execution_count": 17,
   "metadata": {},
   "outputs": [
    {
     "data": {
      "text/plain": [
       "count     6.000000\n",
       "mean     34.336232\n",
       "std      36.779891\n",
       "min       3.147135\n",
       "25%       8.766476\n",
       "50%      17.875368\n",
       "75%      55.628834\n",
       "max      93.176023\n",
       "Name: Graphical Displacement, dtype: float64"
      ]
     },
     "execution_count": 17,
     "metadata": {},
     "output_type": "execute_result"
    }
   ],
   "source": [
    "display_data['Graphical Displacement'].describe()"
   ]
  },
  {
   "cell_type": "code",
   "execution_count": 18,
   "metadata": {},
   "outputs": [
    {
     "data": {
      "image/png": "[encoded data removed]",
      "text/plain": [
       "<Figure size 432x288 with 1 Axes>"
      ]
     },
     "metadata": {
      "needs_background": "light"
     },
     "output_type": "display_data"
    }
   ],
   "source": [
    "hist2 = (display_data['Graphical Displacement']).hist(bins=10)"
   ]
  },
  {
   "cell_type": "markdown",
   "metadata": {},
   "source": [
    "The graphical displacement shows a relatively moderate level of variation.  We have to keep in mind that there are only 6 measurements, but they range from 3 to 93 meters.  In order to put this in context, we need to know that the most precision that might be required is around 20 meters.  Therefore, more than half of the measured values are reasonably within that range.\n",
    "\n",
    "### Graphics Creation\n",
    "\n",
    "Now that we know what information we have to present and generally where it lies (as far as supportive of function or derogatory against), we can generate the graphics to include in our sample report.  Some of the items that we have found to present obviously require no graphics at all.  The translation completion rate number, for example, can be reported as is to illustrate the magnitude of what we are looking at.  \n",
    "\n",
    "Others, such as showing how far off the graphics are or clearly illustrating on some of the previous graphics where acceptable is, will require some effort to make graphics that clearly convey that message.  To this point, let's start by creating a graphical representation of how far off the various displayed graphics are.  For this, we will use the Folium library in Python. Folium is a leaflet map generator, for which overlays can be easily generated.  We will also have to do some work to get the data into a format useful for such a plot. \n",
    "\n",
    "So, starting with the map and adding some special features to pull in ArcGIS maps, we can get a quick view of our area of operations."
   ]
  },
  {
   "cell_type": "code",
   "execution_count": 19,
   "metadata": {},
   "outputs": [],
   "source": [
    "import folium\n",
    "\n",
    "m = folium.Map(\n",
    "    location=[38.8895, -77.0353],\n",
    "    zoom_start=14,\n",
    "    attr='Esri'\n",
    ")\n",
    "\n",
    "tile = folium.TileLayer(\n",
    "    tiles = 'https://server.arcgisonline.com/ArcGIS/rest/services/World_Imagery/MapServer/tile/{z}/{y}/{x}',\n",
    "    attr='Esri',\n",
    "    name='Esri Satellite',\n",
    "    overlay=False,\n",
    "    control=True\n",
    ").add_to(m)"
   ]
  },
  {
   "cell_type": "code",
   "execution_count": 20,
   "metadata": {
    "scrolled": true
   },
   "outputs": [
    {
     "data": {
      "text/html": [
       "<div style=\"width:100%;\"><div style=\"position:relative;width:100%;height:0;padding-bottom:60%;\"><iframe src=\"about:blank\" style=\"position:absolute;width:100%;height:100%;left:0;top:0;border:none !important;\" data-html=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 onload=\"this.contentDocument.open();this.contentDocument.write(atob(this.getAttribute('data-html')));this.contentDocument.close();\" allowfullscreen webkitallowfullscreen mozallowfullscreen></iframe></div></div>"
      ],
      "text/plain": [
       "<folium.folium.Map at 0x1ee4c7cebc8>"
      ]
     },
     "execution_count": 20,
     "metadata": {},
     "output_type": "execute_result"
    }
   ],
   "source": [
    "m"
   ]
  },
  {
   "cell_type": "markdown",
   "metadata": {},
   "source": [
    "Next, let's play with our data to get just the coordinates for both the graphics we saw and the locations they should have been from the data."
   ]
  },
  {
   "cell_type": "code",
   "execution_count": 21,
   "metadata": {},
   "outputs": [
    {
     "data": {
      "text/html": [
       "<div>\n",
       "<style scoped>\n",
       "    .dataframe tbody tr th:only-of-type {\n",
       "        vertical-align: middle;\n",
       "    }\n",
       "\n",
       "    .dataframe tbody tr th {\n",
       "        vertical-align: top;\n",
       "    }\n",
       "\n",
       "    .dataframe thead th {\n",
       "        text-align: right;\n",
       "    }\n",
       "</style>\n",
       "<table border=\"1\" class=\"dataframe\">\n",
       "  <thead>\n",
       "    <tr style=\"text-align: right;\">\n",
       "      <th></th>\n",
       "      <th>Latitude_x</th>\n",
       "      <th>Longitude_x</th>\n",
       "      <th>match_index_x</th>\n",
       "      <th>level_0</th>\n",
       "      <th>index</th>\n",
       "      <th>External Observed Time</th>\n",
       "      <th>To</th>\n",
       "      <th>From</th>\n",
       "      <th>Altitude</th>\n",
       "      <th>Latitude_y</th>\n",
       "      <th>...</th>\n",
       "      <th>latitude</th>\n",
       "      <th>longitude</th>\n",
       "      <th>speed</th>\n",
       "      <th>to</th>\n",
       "      <th>translation_time</th>\n",
       "      <th>network_coords</th>\n",
       "      <th>widget_coords</th>\n",
       "      <th>coords_diff</th>\n",
       "      <th>Display Time</th>\n",
       "      <th>Graphical Displacement</th>\n",
       "    </tr>\n",
       "  </thead>\n",
       "  <tbody>\n",
       "    <tr>\n",
       "      <th>0</th>\n",
       "      <td>38.889900</td>\n",
       "      <td>-77.038616</td>\n",
       "      <td>10</td>\n",
       "      <td>10</td>\n",
       "      <td>12</td>\n",
       "      <td>1586666814762</td>\n",
       "      <td>3</td>\n",
       "      <td>10</td>\n",
       "      <td>1096</td>\n",
       "      <td>38.8898</td>\n",
       "      <td>...</td>\n",
       "      <td>38.8898</td>\n",
       "      <td>77.0386</td>\n",
       "      <td>36</td>\n",
       "      <td>3</td>\n",
       "      <td>14382</td>\n",
       "      <td>(38.8898, 77.0386)</td>\n",
       "      <td>(38.8898, 77.0386)</td>\n",
       "      <td>0.0</td>\n",
       "      <td>86701759</td>\n",
       "      <td>11.206605</td>\n",
       "    </tr>\n",
       "    <tr>\n",
       "      <th>1</th>\n",
       "      <td>38.889151</td>\n",
       "      <td>-77.035916</td>\n",
       "      <td>5</td>\n",
       "      <td>5</td>\n",
       "      <td>5</td>\n",
       "      <td>1586753502109</td>\n",
       "      <td>4</td>\n",
       "      <td>5</td>\n",
       "      <td>1500</td>\n",
       "      <td>38.8895</td>\n",
       "      <td>...</td>\n",
       "      <td>38.8895</td>\n",
       "      <td>77.0353</td>\n",
       "      <td>28</td>\n",
       "      <td>4</td>\n",
       "      <td>13794</td>\n",
       "      <td>(38.8895, 77.0353)</td>\n",
       "      <td>(38.8895, 77.0353)</td>\n",
       "      <td>0.0</td>\n",
       "      <td>15000</td>\n",
       "      <td>65.990402</td>\n",
       "    </tr>\n",
       "    <tr>\n",
       "      <th>2</th>\n",
       "      <td>38.889567</td>\n",
       "      <td>-77.035332</td>\n",
       "      <td>18</td>\n",
       "      <td>18</td>\n",
       "      <td>24</td>\n",
       "      <td>1586688832759</td>\n",
       "      <td>9</td>\n",
       "      <td>4</td>\n",
       "      <td>2125</td>\n",
       "      <td>38.8895</td>\n",
       "      <td>...</td>\n",
       "      <td>38.8895</td>\n",
       "      <td>77.0353</td>\n",
       "      <td>39</td>\n",
       "      <td>9</td>\n",
       "      <td>6426</td>\n",
       "      <td>(38.8895, 77.0353)</td>\n",
       "      <td>(38.8895, 77.0353)</td>\n",
       "      <td>0.0</td>\n",
       "      <td>64691718</td>\n",
       "      <td>7.953099</td>\n",
       "    </tr>\n",
       "    <tr>\n",
       "      <th>3</th>\n",
       "      <td>38.889567</td>\n",
       "      <td>-77.020374</td>\n",
       "      <td>0</td>\n",
       "      <td>0</td>\n",
       "      <td>0</td>\n",
       "      <td>1586214746999</td>\n",
       "      <td>4</td>\n",
       "      <td>5</td>\n",
       "      <td>1500</td>\n",
       "      <td>38.8897</td>\n",
       "      <td>...</td>\n",
       "      <td>38.8897</td>\n",
       "      <td>77.0206</td>\n",
       "      <td>25</td>\n",
       "      <td>4</td>\n",
       "      <td>4619</td>\n",
       "      <td>(38.8897, 77.0206)</td>\n",
       "      <td>(38.8897, 77.0206)</td>\n",
       "      <td>0.0</td>\n",
       "      <td>538779285</td>\n",
       "      <td>24.544130</td>\n",
       "    </tr>\n",
       "    <tr>\n",
       "      <th>4</th>\n",
       "      <td>38.889434</td>\n",
       "      <td>-77.033037</td>\n",
       "      <td>14</td>\n",
       "      <td>14</td>\n",
       "      <td>18</td>\n",
       "      <td>1586520677952</td>\n",
       "      <td>10</td>\n",
       "      <td>7</td>\n",
       "      <td>1500</td>\n",
       "      <td>38.8893</td>\n",
       "      <td>...</td>\n",
       "      <td>38.8893</td>\n",
       "      <td>77.0341</td>\n",
       "      <td>27</td>\n",
       "      <td>10</td>\n",
       "      <td>10219</td>\n",
       "      <td>(38.8893, 77.0341)</td>\n",
       "      <td>(38.8893, 77.0341)</td>\n",
       "      <td>0.0</td>\n",
       "      <td>232842732</td>\n",
       "      <td>93.176023</td>\n",
       "    </tr>\n",
       "  </tbody>\n",
       "</table>\n",
       "<p>5 rows × 26 columns</p>\n",
       "</div>"
      ],
      "text/plain": [
       "   Latitude_x  Longitude_x  match_index_x  level_0  index  \\\n",
       "0   38.889900   -77.038616             10       10     12   \n",
       "1   38.889151   -77.035916              5        5      5   \n",
       "2   38.889567   -77.035332             18       18     24   \n",
       "3   38.889567   -77.020374              0        0      0   \n",
       "4   38.889434   -77.033037             14       14     18   \n",
       "\n",
       "   External Observed Time  To  From  Altitude  Latitude_y  ...  latitude  \\\n",
       "0           1586666814762   3    10      1096     38.8898  ...   38.8898   \n",
       "1           1586753502109   4     5      1500     38.8895  ...   38.8895   \n",
       "2           1586688832759   9     4      2125     38.8895  ...   38.8895   \n",
       "3           1586214746999   4     5      1500     38.8897  ...   38.8897   \n",
       "4           1586520677952  10     7      1500     38.8893  ...   38.8893   \n",
       "\n",
       "   longitude  speed  to  translation_time      network_coords  \\\n",
       "0    77.0386     36   3             14382  (38.8898, 77.0386)   \n",
       "1    77.0353     28   4             13794  (38.8895, 77.0353)   \n",
       "2    77.0353     39   9              6426  (38.8895, 77.0353)   \n",
       "3    77.0206     25   4              4619  (38.8897, 77.0206)   \n",
       "4    77.0341     27  10             10219  (38.8893, 77.0341)   \n",
       "\n",
       "        widget_coords  coords_diff  Display Time  Graphical Displacement  \n",
       "0  (38.8898, 77.0386)          0.0      86701759               11.206605  \n",
       "1  (38.8895, 77.0353)          0.0         15000               65.990402  \n",
       "2  (38.8895, 77.0353)          0.0      64691718                7.953099  \n",
       "3  (38.8897, 77.0206)          0.0     538779285               24.544130  \n",
       "4  (38.8893, 77.0341)          0.0     232842732               93.176023  \n",
       "\n",
       "[5 rows x 26 columns]"
      ]
     },
     "execution_count": 21,
     "metadata": {},
     "output_type": "execute_result"
    }
   ],
   "source": [
    "display_data.head()"
   ]
  },
  {
   "cell_type": "code",
   "execution_count": 22,
   "metadata": {},
   "outputs": [],
   "source": [
    "map_location_x = [x for x in display_data['Latitude_x']]\n",
    "map_location_y = [x for x in display_data['Longitude_x']]\n",
    "map_locations = []\n",
    "\n",
    "for i in range(len(map_location_y)):\n",
    "    map_locations.append((map_location_x[i], map_location_y[i]))\n",
    "    \n",
    "widget_locations = [x for x in display_data['widget_coords']]\n",
    "\n",
    "for i in range(len(widget_locations)):\n",
    "    widget_locations[i] = (widget_locations[i][0], -1*widget_locations[i][1])\n",
    "\n",
    "i=0\n",
    "for coord_pair in map_locations:\n",
    "    folium.Circle(\n",
    "        location=coord_pair,\n",
    "        radius = 5,\n",
    "        color='cadetblue',\n",
    "        fill = True,\n",
    "        fill_color='cadetblue',\n",
    "        popup='Map Location '+str(i)\n",
    "    ).add_to(m)\n",
    "    i+=1\n",
    "\n",
    "i=0\n",
    "for coord_pair in widget_locations:\n",
    "    folium.Circle(\n",
    "        location=coord_pair,\n",
    "        radius=5,\n",
    "        color='orange',\n",
    "        fill = True,\n",
    "        fill_color='orange',\n",
    "        popup='Data Location '+str(i)\n",
    "    ).add_to(m)\n",
    "    i+=1"
   ]
  },
  {
   "cell_type": "code",
   "execution_count": 23,
   "metadata": {},
   "outputs": [
    {
     "data": {
      "text/html": [
       "<div style=\"width:100%;\"><div style=\"position:relative;width:100%;height:0;padding-bottom:60%;\"><iframe src=\"about:blank\" style=\"position:absolute;width:100%;height:100%;left:0;top:0;border:none !important;\" data-html=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 onload=\"this.contentDocument.open();this.contentDocument.write(atob(this.getAttribute('data-html')));this.contentDocument.close();\" allowfullscreen webkitallowfullscreen mozallowfullscreen></iframe></div></div>"
      ],
      "text/plain": [
       "<folium.folium.Map at 0x1ee4c7cebc8>"
      ]
     },
     "execution_count": 23,
     "metadata": {},
     "output_type": "execute_result"
    }
   ],
   "source": [
    "m"
   ]
  },
  {
   "cell_type": "markdown",
   "metadata": {},
   "source": [
    "This is a pretty effective method to show how close or far the actual data is from where the marker show was.  So, let's save the views (one for each set of dots) out.  NOTE: At this point, the .to_png() method is not producing output as expected, so print screen and save as .png was used instead. \n",
    "\n",
    "Next, we need to take those graphs from earlier and massage them to illustrate what we have found.  Let's start with the time charts.  We know that translation times in excess of ~10 seconds is likely to be considered ineffective, when remembering that we are considering a resident process in our MCWidget and that this data is still not displayed to the user.  To come to this number, we need to know that (based upon the physics of satellite communications) a message of the size we are looking at should take around 3 seconds to make the satellite round trip.  That gives the translation up to a factor of three beyond the transmission time.  Let's try to illustrate that clearly on our plot. This time, we'll go with a higher quantity of bins to more clearly show where our times are located."
   ]
  },
  {
   "cell_type": "code",
   "execution_count": 24,
   "metadata": {},
   "outputs": [
    {
     "data": {
      "image/png": "[encoded data removed]",
      "text/plain": [
       "<Figure size 432x288 with 1 Axes>"
      ]
     },
     "metadata": {
      "needs_background": "light"
     },
     "output_type": "display_data"
    }
   ],
   "source": [
    "acceptable = float(len(instrumented_data[instrumented_data['translation_time']<10000]))\n",
    "total = float(len(instrumented_data))\n",
    "ratio = round((acceptable/total)*100,2)\n",
    "fig = plt.figure()\n",
    "plt.axvspan(0,10, facecolor='green', alpha=0.1)\n",
    "plt.axvspan(10, 15, facecolor='red', alpha=0.1)\n",
    "plt.hist(instrumented_data['translation_time']/1000, 30, facecolor='black')\n",
    "plt.xlim(0,15)\n",
    "plt.xlabel('Translation Time (seconds)')\n",
    "plt.ylabel('Frequency of Time')\n",
    "plt.title('Distribution of Translation Delay Time \\n Acceptable Times (< 10 sec) : '+str(ratio)+'%')\n",
    "plt.show()\n",
    "fig.savefig('translation_time.png', dpi = fig.dpi)"
   ]
  },
  {
   "cell_type": "markdown",
   "metadata": {},
   "source": [
    "So that graph clearly tells us the percentage that were acceptable by our definition, as well as clearly showing the distribution within the acceptable and unacceptable regions.  Let's do the same with the display times. For display times, we'll assume that if the data arrives at the users terminal within 1-2 minutes, they should be able to respond to it.  This give the internal handling of the data (from translation to display) around six times the amount of time afforded the translation itself. At this point, we probably have enough to prepare a draft report section on how the MCWidget accomplished it's goal, so let's transition to that. \n",
    "\n",
    "\n",
    "### Sample Report Input\n",
    "The final step in this process would be to generate a sample report discussing what we have learned.  So, here we go....\n",
    "\n",
    "----------------------------------------"
   ]
  },
  {
   "cell_type": "markdown",
   "metadata": {},
   "source": [
    "# Effectiveness of Mission Command Widget\n",
    "\n",
    "## Introduction\n",
    "\n",
    "The Mission Command Widget (MCWidget) is a situational awareness application developed by Program Manager Whathisname with the intent of providing Army Soldiers and commanders with enhanced awareness of their battlespace, while also reducing the time required to command actions and manage unit positions.  In order to function, the MCWidget passes its data over a satellite based transmission network via text-based message formats.  Once these text-based messages are received at the various MCWidget-enabled end stations, MCWidget converts this data into an internal JavaScript Object Notation format via custom translation processes and then displays this data to the Soldier or commander using that terminal via an overhead satellite view of the local region. This overhead map view can be scrolled and customized to meet the needs of the user, using various layered views of data and scalable overhead views.\n",
    "\n",
    "## Evaluation Overview\n",
    "\n",
    "In order to assess the efficacy of the MCWidget in providing this situational awareness data, Test Agency A devised an experimental arrangement where known information was transmitted between various MCWidget-enabled terminals and collected via BlackMagic brand data collection toolsets. The content of the message was recorded, along with periodic captures of the display view of the MCWidget map, and timestamped for later analysis. \n",
    "\n",
    "## Assessment of Efficacy\n",
    "\n",
    "Our analysis of the efficacy of the MCWidget as a situational awareness tool had demonstrated that the tool seems sufficient in its capacity to deliver accurate translations of mission data to the user.  However, it is unreliable in the timely delivery of that information and can take excessive time to present information to the user. In addition, MCWidget's displayed coordinates are borderline in their usability to the units requiring high precision and accuracy information for their functions. As a result, we recommend that the MCWidget continue development and undergo another test event in order to assess relevant improvements to the deficiencies noted below. \n",
    "\n",
    "### Data Translation Success Rate\n",
    "This assessment determined that, with 80% confidence, the MCWidget was capable of translating network messages into the system with a success rate between 57 and 69%.  For this test, the assessment found a mean success rate of 62%. This means that, for 100 messages, 38 of them would not translate into the system. Further, the screen data indicates that the MCWidget does recognize incorrectly translated data and none of these were displayed to the user.  Despite this, the MCWidget's success rate suggests a user-observable level of messages will fail to translate to the displayed data, resulting in decreased user reliance on the MCWidget. \n",
    "\n",
    "### Data Accuracy\n",
    "#### Translation of Data\n",
    "We employed the data to assess the accuracy of the translation of data into and out of the MCWidget, comparing all fields available.  This analysis demonstrated that all 23 of the messages successfully translated in had data consistent with that on the network.  While this should continue to be monitored, the results demonstrate that the act of translating data into the system did not result in significant errors, even though the success rate should improve.\n",
    "\n",
    "#### Display of Data\n",
    "In addition to assessing the accuracy of the translation, we assessed graphical accuracy using video data from user terminals. Based upon this analysis, the MCWidget's displayed data was off by 34 meters on average, with this result between 13 and 52 meters using an 80% confidence.  The range of measured values was from 3 meters to 93 meters, suggesting that further measurement is needed.  For reference, users have indicated an acceptable error margin is less than 20 meters, so the measured data's lower bound meets this, while the point estimate does not.  We recommend that the developers continue to assess data accuracy between their translation service and the display in order to improve this graphical error.  Example displacements are shown in Figures 1 and 2 below, with orange representing data locations (two points have the same physical coordinates) and blue represented visual locations on the map. \n",
    "\n",
    "<img src='graphical_displacement1.png'>\n",
    "<center> Figure 1</center>\n",
    "<img src='graphical_displacement2.png'>\n",
    "<center> Figure 2</center>\n",
    "\n",
    "### Data Timeliness\n",
    "#### Translation of Data\n",
    "For the data that was translated correctly into the MCWidget, the tranlsation took a mean time of 8.9 seconds. The analysis performed suggests that, with 80% confidence, the true mean time lies between 7.7 and 10.1 seconds.  This time is approximately three times the data transmission time required by the satellite network, suggesting that the translation is not likely to delay the data to a degree that would engender lack of confidence from users.  The distribution of the delays shows that around 48% of the measured delays lie withing the acceptable region, with the highest mesaured delay coming around 14.5 seconds.  We recommend that the developers continue to improve the translation processes, with the objective of retaining translation times below 10 seconds, to minimize user awareness of the delay. The distribution of data is shown below in Figure 3.\n",
    "\n",
    "<img src='translation_time.png'>\n",
    "<center> Figure 3</center>\n",
    "\n",
    "#### Display of Data\n",
    "In addition to the translation induced delay, the MCWidget data demonstrated that the most significant issue was the representation of the graphical data to the user.  The data observed on the screen via display snapshots illustrated that some data was over six days old. There was no indication to the user that their displayed information was this significantly out of date.  We recommend that the developers implement methods to indicate to the user the relative age of the data being viewed.  \n",
    "\n",
    "Beyond this, six graphics were represented on the screen, while 40 messages were sent.  Even considering the translation rate, this means that only 30% of the successfully translated graphics appeared on the screen.   We recommend the developers investigate this discrepancy, in order to maintain user confidence in the data delivered to them.\n",
    "\n",
    "## Conclusions\n",
    "Our assessment has demonstrated that the overall efficiacy of the MCWidget is not sufficient to put into production. The inability to display data age, obvious missing data, and low translation success rate suggest that users of the MCWidget are unlikely to trust the displayed information.  We recommend further development of the MCWidget, followed by further testing in order to assess improvements.\n"
   ]
  },
  {
   "cell_type": "markdown",
   "metadata": {},
   "source": [
    "---------------------------------------------\n",
    "\n",
    "And, there you have it.  Although the example report is fairly short, it covers the major points and uses graphics to convey to the reader elements of the analysis pertinent to their decision.  \n",
    "\n",
    "As before, thank you for your attention during this walkthrough and I hope that the processes illustrated within are helpful to you.  Please feel free to investigate other walkthroughs I have included in the Data Science Portfolio."
   ]
  }
 ],
 "metadata": {
  "kernelspec": {
   "display_name": "Python 3",
   "language": "python",
   "name": "python3"
  },
  "language_info": {
   "codemirror_mode": {
    "name": "ipython",
    "version": 3
   },
   "file_extension": ".py",
   "mimetype": "text/x-python",
   "name": "python",
   "nbconvert_exporter": "python",
   "pygments_lexer": "ipython3",
   "version": "3.7.6"
  }
 },
 "nbformat": 4,
 "nbformat_minor": 4
}
